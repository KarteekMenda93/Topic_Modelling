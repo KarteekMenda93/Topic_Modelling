{
  "nbformat": 4,
  "nbformat_minor": 0,
  "metadata": {
    "colab": {
      "name": "Fraud_Detection_by_Topic_Modelling(LDA).ipynb",
      "provenance": [],
      "collapsed_sections": []
    },
    "kernelspec": {
      "name": "python3",
      "display_name": "Python 3"
    },
    "accelerator": "GPU"
  },
  "cells": [
    {
      "cell_type": "markdown",
      "metadata": {
        "id": "ku4N3N7ZanFm"
      },
      "source": [
        "Text data containing emails from Enron employees. The Enron scandal is a famous fraud case. Enron employees covered up the bad financial position of the company, thereby keeping the stock price artificially high. Enron employees sold their own stock options, and when the truth came out, Enron investors were left with nothing. The goal is to find all emails that mention specific words, such as \"sell enron stock\" etc kind of......."
      ]
    },
    {
      "cell_type": "code",
      "metadata": {
        "colab": {
          "base_uri": "https://localhost:8080/"
        },
        "id": "s71v0QXKDBjS",
        "outputId": "d6cd5c56-1fbb-469e-abb6-aaafde5e8a50"
      },
      "source": [
        "!pip install pyLDAvis"
      ],
      "execution_count": null,
      "outputs": [
        {
          "output_type": "stream",
          "text": [
            "Requirement already satisfied: pyLDAvis in /usr/local/lib/python3.6/dist-packages (2.1.2)\n",
            "Requirement already satisfied: numexpr in /usr/local/lib/python3.6/dist-packages (from pyLDAvis) (2.7.2)\n",
            "Requirement already satisfied: pytest in /usr/local/lib/python3.6/dist-packages (from pyLDAvis) (3.6.4)\n",
            "Requirement already satisfied: jinja2>=2.7.2 in /usr/local/lib/python3.6/dist-packages (from pyLDAvis) (2.11.2)\n",
            "Requirement already satisfied: future in /usr/local/lib/python3.6/dist-packages (from pyLDAvis) (0.16.0)\n",
            "Requirement already satisfied: funcy in /usr/local/lib/python3.6/dist-packages (from pyLDAvis) (1.15)\n",
            "Requirement already satisfied: joblib>=0.8.4 in /usr/local/lib/python3.6/dist-packages (from pyLDAvis) (1.0.0)\n",
            "Requirement already satisfied: numpy>=1.9.2 in /usr/local/lib/python3.6/dist-packages (from pyLDAvis) (1.19.5)\n",
            "Requirement already satisfied: scipy>=0.18.0 in /usr/local/lib/python3.6/dist-packages (from pyLDAvis) (1.4.1)\n",
            "Requirement already satisfied: wheel>=0.23.0 in /usr/local/lib/python3.6/dist-packages (from pyLDAvis) (0.36.2)\n",
            "Requirement already satisfied: pandas>=0.17.0 in /usr/local/lib/python3.6/dist-packages (from pyLDAvis) (1.1.5)\n",
            "Requirement already satisfied: attrs>=17.4.0 in /usr/local/lib/python3.6/dist-packages (from pytest->pyLDAvis) (20.3.0)\n",
            "Requirement already satisfied: setuptools in /usr/local/lib/python3.6/dist-packages (from pytest->pyLDAvis) (51.3.3)\n",
            "Requirement already satisfied: more-itertools>=4.0.0 in /usr/local/lib/python3.6/dist-packages (from pytest->pyLDAvis) (8.6.0)\n",
            "Requirement already satisfied: pluggy<0.8,>=0.5 in /usr/local/lib/python3.6/dist-packages (from pytest->pyLDAvis) (0.7.1)\n",
            "Requirement already satisfied: py>=1.5.0 in /usr/local/lib/python3.6/dist-packages (from pytest->pyLDAvis) (1.10.0)\n",
            "Requirement already satisfied: atomicwrites>=1.0 in /usr/local/lib/python3.6/dist-packages (from pytest->pyLDAvis) (1.4.0)\n",
            "Requirement already satisfied: six>=1.10.0 in /usr/local/lib/python3.6/dist-packages (from pytest->pyLDAvis) (1.15.0)\n",
            "Requirement already satisfied: MarkupSafe>=0.23 in /usr/local/lib/python3.6/dist-packages (from jinja2>=2.7.2->pyLDAvis) (1.1.1)\n",
            "Requirement already satisfied: pytz>=2017.2 in /usr/local/lib/python3.6/dist-packages (from pandas>=0.17.0->pyLDAvis) (2018.9)\n",
            "Requirement already satisfied: python-dateutil>=2.7.3 in /usr/local/lib/python3.6/dist-packages (from pandas>=0.17.0->pyLDAvis) (2.8.1)\n"
          ],
          "name": "stdout"
        }
      ]
    },
    {
      "cell_type": "markdown",
      "metadata": {
        "id": "BNXmEMZ4EVfY"
      },
      "source": [
        "# Import packages"
      ]
    },
    {
      "cell_type": "code",
      "metadata": {
        "id": "CNFNuP1Mwsp8"
      },
      "source": [
        "import pandas as pd\n",
        "import numpy as np\n",
        "import string\n",
        "import nltk\n",
        "import gensim\n",
        "import pyLDAvis.gensim\n",
        "import warnings\n",
        "warnings.filterwarnings('ignore')\n",
        "\n",
        "\n",
        "from nltk import word_tokenize\n",
        "from nltk.corpus import stopwords \n",
        "from nltk.stem.wordnet import WordNetLemmatizer\n",
        "from nltk.stem.porter import PorterStemmer\n",
        "\n",
        "from gensim import corpora"
      ],
      "execution_count": null,
      "outputs": []
    },
    {
      "cell_type": "code",
      "metadata": {
        "colab": {
          "base_uri": "https://localhost:8080/"
        },
        "id": "FNQ9LNJIDKNx",
        "outputId": "103537ba-9c98-45dc-8629-2d2274b28585"
      },
      "source": [
        "nltk.download('stopwords')\n",
        "nltk.download('wordnet')"
      ],
      "execution_count": null,
      "outputs": [
        {
          "output_type": "stream",
          "text": [
            "[nltk_data] Downloading package stopwords to /root/nltk_data...\n",
            "[nltk_data]   Package stopwords is already up-to-date!\n",
            "[nltk_data] Downloading package wordnet to /root/nltk_data...\n",
            "[nltk_data]   Package wordnet is already up-to-date!\n"
          ],
          "name": "stdout"
        },
        {
          "output_type": "execute_result",
          "data": {
            "text/plain": [
              "True"
            ]
          },
          "metadata": {
            "tags": []
          },
          "execution_count": 15
        }
      ]
    },
    {
      "cell_type": "code",
      "metadata": {
        "id": "AzJ7V9s81NSH"
      },
      "source": [
        "df = pd.read_csv('enron_emails_clean.csv')"
      ],
      "execution_count": null,
      "outputs": []
    },
    {
      "cell_type": "markdown",
      "metadata": {
        "id": "wYG8XG2QEqbW"
      },
      "source": [
        "# Cleaning the text data\n",
        "1. Tokenization\n",
        "  *  Split the text into sentences and the sentences in words\n",
        "  * transform everything to lowercase\n",
        "  * remove punctuation\n",
        "2. Remove all stopwords"
      ]
    },
    {
      "cell_type": "code",
      "metadata": {
        "id": "RQMS4OUa2PZN"
      },
      "source": [
        "# Define stopwords to exclude\n",
        "stop = set(stopwords.words('english'))\n",
        "stop.update((\"to\", \"cc\", \"subject\", \"http\", \"from\", \"sent\", \"ect\", \"u\", \"fwd\", \"www\", \"com\", 'html'))\n",
        "\n",
        "# Define punctuations to exclude and lemmatizer\n",
        "exclude = set(string.punctuation)"
      ],
      "execution_count": null,
      "outputs": []
    },
    {
      "cell_type": "markdown",
      "metadata": {
        "id": "D-AUna5bFpzL"
      },
      "source": [
        "* There are a few more steps to take before you have cleaned data, such as \"lemmatization\" of words, and stemming the verbs. The verbs in the email data are already stemmed, and the lemmatization is to be done, so lets `lemma`"
      ]
    },
    {
      "cell_type": "code",
      "metadata": {
        "id": "J41iZ20a2ZrG"
      },
      "source": [
        "# Import the lemmatizer from nltk\n",
        "lemma = WordNetLemmatizer()\n",
        "\n",
        "# Use the previously defined variables stop and exclude to finish of the function: \n",
        "# Strip the words from whitespaces using rstrip, and exclude stopwords and punctuations.\n",
        "# Finally lemmatize the words and assign that to normalized\n",
        "def clean(text, stop):\n",
        "    text = str(text).rstrip()\n",
        "    stop_free = \" \".join([i for i in text.lower().split() if((i not in stop) and (not i.isdigit()))])\n",
        "    punc_free = ''.join(i for i in stop_free if i not in exclude)\n",
        "    normalized = \" \".join(lemma.lemmatize(i) for i in punc_free.split())      \n",
        "    return normalized"
      ],
      "execution_count": null,
      "outputs": []
    },
    {
      "cell_type": "code",
      "metadata": {
        "id": "M3KCoYHr2mB2"
      },
      "source": [
        "# Clean the emails in df and print results\n",
        "# Apply the function clean(text,stop) on each line of text data in our dataframe.\n",
        "text_clean=[]\n",
        "for text in df['clean_content']:\n",
        "    text_clean.append(clean(text, stop).split())"
      ],
      "execution_count": null,
      "outputs": []
    },
    {
      "cell_type": "code",
      "metadata": {
        "colab": {
          "base_uri": "https://localhost:8080/"
        },
        "id": "mK9lwAdV2oyt",
        "outputId": "cb2a0a66-8b9f-4ebf-bee5-849c634b7042"
      },
      "source": [
        "text_clean[0][:10]"
      ],
      "execution_count": null,
      "outputs": [
        {
          "output_type": "execute_result",
          "data": {
            "text/plain": [
              "['investools',\n",
              " 'advisory',\n",
              " 'free',\n",
              " 'digest',\n",
              " 'trusted',\n",
              " 'investment',\n",
              " 'advice',\n",
              " 'unsubscribe',\n",
              " 'free',\n",
              " 'newsletter']"
            ]
          },
          "metadata": {
            "tags": []
          },
          "execution_count": 20
        }
      ]
    },
    {
      "cell_type": "markdown",
      "metadata": {
        "id": "knw8bapQGirP"
      },
      "source": [
        "* We have cleaned the data entirely, including splitting the text into words, removing stopwords and punctuations, and lemmatizing the words. \n",
        "* We are now ready to run a topic model on this data. "
      ]
    },
    {
      "cell_type": "markdown",
      "metadata": {
        "id": "jiy4iCszG-uV"
      },
      "source": [
        "* Now we have the data with us and inorder to detect any fraudlent kind of, we need to do the topic modelling.\n",
        "\n",
        "## Topic Modelling on fraud"
      ]
    },
    {
      "cell_type": "markdown",
      "metadata": {
        "id": "bTtRC50rHpio"
      },
      "source": [
        "### Create dictionary and corpus\n",
        "\n",
        "* In order to run an LDA topic model, We first need to define our dictionary and corpus first, as those need to go into the model."
      ]
    },
    {
      "cell_type": "code",
      "metadata": {
        "id": "0zIkOEdY2wXd"
      },
      "source": [
        "# Define the dictionary\n",
        "dictionary = corpora.Dictionary(text_clean)\n",
        "\n",
        "# Define the corpus \n",
        "# Document to Bag of Words\n",
        "# converts text data into bag-of-words format\n",
        "# each row is now a list of words with the associated word count\n",
        "corpus = [dictionary.doc2bow(text) for text in text_clean]"
      ],
      "execution_count": null,
      "outputs": []
    },
    {
      "cell_type": "code",
      "metadata": {
        "colab": {
          "base_uri": "https://localhost:8080/"
        },
        "id": "NjR96zC62_IF",
        "outputId": "4d44c105-1910-4f00-bd41-56a9e25659d0"
      },
      "source": [
        "print(dictionary)"
      ],
      "execution_count": null,
      "outputs": [
        {
          "output_type": "stream",
          "text": [
            "Dictionary(31490 unique tokens: ['account', 'accurate', 'acquiring', 'acre', 'address']...)\n"
          ],
          "name": "stdout"
        }
      ]
    },
    {
      "cell_type": "code",
      "metadata": {
        "colab": {
          "base_uri": "https://localhost:8080/"
        },
        "id": "NJagYSCD3X2U",
        "outputId": "d2bf401c-46d6-4799-9494-166424321283"
      },
      "source": [
        "corpus[0][:10]"
      ],
      "execution_count": null,
      "outputs": [
        {
          "output_type": "execute_result",
          "data": {
            "text/plain": [
              "[(0, 2),\n",
              " (1, 1),\n",
              " (2, 1),\n",
              " (3, 1),\n",
              " (4, 1),\n",
              " (5, 6),\n",
              " (6, 1),\n",
              " (7, 2),\n",
              " (8, 4),\n",
              " (9, 1)]"
            ]
          },
          "metadata": {
            "tags": []
          },
          "execution_count": 23
        }
      ]
    },
    {
      "cell_type": "markdown",
      "metadata": {
        "id": "-TBgZSVBI1QG"
      },
      "source": [
        "## LDA model.\n",
        "\n",
        "* Now it's time to build the LDA model. Using the dictionary and corpus, we are ready to discover which topics are present in the Enron emails."
      ]
    },
    {
      "cell_type": "code",
      "metadata": {
        "colab": {
          "base_uri": "https://localhost:8080/"
        },
        "id": "5GzR6JVv3dWz",
        "outputId": "b5d1fa08-0edc-4a6b-df8c-91cbe760b40b"
      },
      "source": [
        "# Define the LDA model\n",
        "# Build the LDA model from gensim models, by inserting the corpus and dictionary.\n",
        "ldamodel = gensim.models.ldamodel.LdaModel(corpus, num_topics=5, id2word=dictionary, passes=5)\n",
        "\n",
        "# Save the topics and top 5 words\n",
        "topics = ldamodel.print_topics(num_words=5)\n",
        "\n",
        "# Print the results\n",
        "for topic in topics:\n",
        "    print(topic)"
      ],
      "execution_count": null,
      "outputs": [
        {
          "output_type": "stream",
          "text": [
            "(0, '0.021*\"enron\" + 0.008*\"message\" + 0.007*\"stock\" + 0.006*\"original\" + 0.006*\"pm\"')\n",
            "(1, '0.016*\"td\" + 0.013*\"font\" + 0.006*\"size\" + 0.006*\"tr\" + 0.006*\"e\"')\n",
            "(2, '0.023*\"enron\" + 0.016*\"bakernet\" + 0.015*\"company\" + 0.013*\"employee\" + 0.010*\"million\"')\n",
            "(3, '0.049*\"enron\" + 0.013*\"hou\" + 0.008*\"company\" + 0.006*\"said\" + 0.006*\"corp\"')\n",
            "(4, '0.011*\"enron\" + 0.005*\"aaaaaaaaaaaaaaaaaaaaaaaaaaaaaaaaaaaaaaaaaaaaaaaaaaaaaaaaaaaaaaaaaaaaaaaaaaaa\" + 0.005*\"company\" + 0.004*\"one\" + 0.004*\"new\"')\n"
          ],
          "name": "stdout"
        }
      ]
    },
    {
      "cell_type": "markdown",
      "metadata": {
        "id": "TpdmoJEHJlPN"
      },
      "source": [
        "* We have now successfully created the first topic model on the Enron email data. However, the print of words doesn't really give us the enough information to find a topic that might lead us to signs of fraud."
      ]
    },
    {
      "cell_type": "code",
      "metadata": {
        "id": "LoI9MTnB3teN"
      },
      "source": [
        "lda_display = pyLDAvis.gensim.prepare(ldamodel, corpus, dictionary, sort_topics=False)"
      ],
      "execution_count": null,
      "outputs": []
    },
    {
      "cell_type": "code",
      "metadata": {
        "colab": {
          "base_uri": "https://localhost:8080/",
          "height": 861
        },
        "id": "4j08eURH4BgV",
        "outputId": "3d454865-349c-45c5-d9c2-13e036c8e50c"
      },
      "source": [
        "pyLDAvis.display(lda_display)"
      ],
      "execution_count": null,
      "outputs": [
        {
          "output_type": "execute_result",
          "data": {
            "text/html": [
              "\n",
              "<link rel=\"stylesheet\" type=\"text/css\" href=\"https://cdn.rawgit.com/bmabey/pyLDAvis/files/ldavis.v1.0.0.css\">\n",
              "\n",
              "\n",
              "<div id=\"ldavis_el641400749859763601940533525\"></div>\n",
              "<script type=\"text/javascript\">\n",
              "\n",
              "var ldavis_el641400749859763601940533525_data = {\"mdsDat\": {\"x\": [0.03311396844850375, 0.09255298031125386, -0.14701043435352149, -0.009660227788243473, 0.031003713382007317], \"y\": [-0.06485637492669574, 0.09603716366065009, 0.04885807002103517, -0.07188860900287146, -0.008150249752118205], \"topics\": [1, 2, 3, 4, 5], \"cluster\": [1, 1, 1, 1, 1], \"Freq\": [20.212159895401605, 11.048623936452055, 15.45945795095976, 34.89728179821412, 18.38247641897246]}, \"tinfo\": {\"Term\": [\"bakernet\", \"td\", \"font\", \"employee\", \"hou\", \"enron\", \"million\", \"mailto\", \"size\", \"company\", \"consumer\", \"tr\", \"aaaaaaaaaaaaaaaaaaaaaaaaaaaaaaaaaaaaaaaaaaaaaaaaaaaaaaaaaaaaaaaaaaaaaaaaaaaa\", \"fund\", \"made\", \"message\", \"california\", \"align\", \"pay\", \"retirement\", \"declared\", \"donate\", \"original\", \"div\", \"bankruptcy\", \"width\", \"dynegy\", \"alert\", \"bill\", \"stock\", \"rybarski\", \"maggi\", \"jmckay\", \"tfsbrokers\", \"mule\", \"scasey\", \"enronoptions\", \"mkt\", \"crabon\", \"resumed\", \"engy\", \"detected\", \"variance\", \"rabon\", \"bme\", \"rdonoghue\", \"mckay\", \"akllp\", \"quotation\", \"ebner\", \"ciso\", \"amanda\", \"scd\", \"mphlegal\", \"xl\", \"interchg\", \"ismail\", \"simpletel\", \"ancillary\", \"ospraie\", \"cn\", \"trans\", \"otc\", \"multexinvestor\", \"recipient\", \"fool\", \"mann\", \"sc\", \"kay\", \"original\", \"message\", \"ge\", \"schedule\", \"final\", \"mike\", \"program\", \"january\", \"tuesday\", \"intended\", \"follows\", \"pm\", \"stock\", \"know\", \"december\", \"option\", \"image\", \"please\", \"november\", \"enron\", \"type\", \"may\", \"get\", \"need\", \"e\", \"information\", \"thanks\", \"email\", \"week\", \"would\", \"company\", \"time\", \"mail\", \"employee\", \"new\", \"day\", \"corp\", \"energy\", \"font\", \"nbsp\", \"align\", \"td\", \"columbiahouse\", \"enews\", \"nobr\", \"eezc\", \"memid\", \"gc\", \"valign\", \"tk\", \"blu\", \"gjm\", \"olc\", \"kv\", \"alt\", \"mtfdnj\", \"width\", \"synchronizing\", \"verdana\", \"img\", \"lstncat\", \"sans\", \"serif\", \"height\", \"flo\", \"pec\", \"ftd\", \"clickz\", \"cellspacing\", \"cellpadding\", \"tr\", \"size\", \"br\", \"href\", \"color\", \"eg\", \"src\", \"border\", \"bgcolor\", \"nam\", \"z\", \"b\", \"table\", \"right\", \"market\", \"customer\", \"e\", \"image\", \"product\", \"capacity\", \"gas\", \"option\", \"power\", \"france\", \"new\", \"value\", \"may\", \"price\", \"information\", \"day\", \"enron\", \"company\", \"please\", \"service\", \"email\", \"alias\", \"edgar\", \"ebiz\", \"bakernet\", \"prospectus\", \"underhanded\", \"pocketbook\", \"devastated\", \"labour\", \"forrester\", \"doctrans\", \"smartportfolio\", \"declared\", \"astronomical\", \"spacer\", \"maatman\", \"donate\", \"arbetter\", \"afford\", \"financially\", \"urging\", \"hesco\", \"walschlager\", \"netted\", \"wiped\", \"renee\", \"eeoc\", \"jolivet\", \"findlaw\", \"bergstrom\", \"repair\", \"aggressively\", \"relief\", \"uscourts\", \"workplace\", \"scientech\", \"union\", \"bankrupt\", \"indeed\", \"hurt\", \"alert\", \"consumer\", \"retirement\", \"urge\", \"unable\", \"writing\", \"mailto\", \"employee\", \"pay\", \"fund\", \"million\", \"bankruptcy\", \"made\", \"dynegy\", \"california\", \"bill\", \"company\", \"reach\", \"energy\", \"enron\", \"june\", \"date\", \"stock\", \"new\", \"benefit\", \"see\", \"transition\", \"plan\", \"reported\", \"state\", \"american\", \"year\", \"help\", \"u\", \"please\", \"time\", \"ljm\", \"mergerqa\", \"iris\", \"crenshaw\", \"tyco\", \"testify\", \"lerach\", \"guidroz\", \"lesli\", \"fastow\", \"soldano\", \"pitt\", \"mailman\", \"shredded\", \"destruction\", \"ee\", \"rebook\", \"rohauer\", \"joskow\", \"chewco\", \"dorgan\", \"espinoza\", \"gibner\", \"dole\", \"brant\", \"melinda\", \"postmaster\", \"linklaters\", \"nicolay\", \"vinson\", \"hou\", \"mcmahon\", \"stinson\", \"duncan\", \"partnership\", \"andersen\", \"auditor\", \"kaminski\", \"shredding\", \"enronxgate\", \"vince\", \"tanya\", \"sa\", \"na\", \"steffes\", \"elkins\", \"enron\", \"fossum\", \"mr\", \"said\", \"corp\", \"communication\", \"lon\", \"accounting\", \"development\", \"jones\", \"kean\", \"executive\", \"dow\", \"lawyer\", \"forwarded\", \"document\", \"copyright\", \"financial\", \"would\", \"j\", \"chief\", \"company\", \"pm\", \"power\", \"committee\", \"lay\", \"e\", \"c\", \"mail\", \"energy\", \"also\", \"please\", \"time\", \"price\", \"year\", \"new\", \"stock\", \"market\", \"business\", \"u\", \"borland\", \"initialize\", \"gt\", \"div\", \"tmv\", \"edmunds\", \"newtmv\", \"akamai\", \"occurred\", \"attempting\", \"aaaaaaaaaaaaaaaaaaaaaaaaaaaaaaaaaaaaaaaaaaaaaaaaaaaaaaaaaaaaaaaaaaaaaaaaaaaa\", \"epl\", \"tmvcontroller\", \"businessweek\", \"todaysheadlines\", \"whitedot\", \"aaaaaaaaaaaaaaaa\", \"fx\", \"campuscounselor\", \"fv\", \"domestication\", \"adeepa\", \"energycentral\", \"fid\", \"parentname\", \"atext\", \"comtex\", \"nytimes\", \"vdw\", \"aw\", \"engine\", \"entex\", \"southwest\", \"error\", \"ig\", \"jan\", \"feb\", \"mar\", \"database\", \"one\", \"way\", \"skilling\", \"gas\", \"f\", \"news\", \"say\", \"like\", \"new\", \"year\", \"enron\", \"business\", \"people\", \"company\", \"market\", \"time\", \"e\", \"day\", \"would\", \"energy\", \"get\", \"service\", \"c\", \"could\", \"may\", \"said\", \"power\", \"u\"], \"Freq\": [1009.0, 720.0, 567.0, 1270.0, 1881.0, 10469.0, 1032.0, 727.0, 308.0, 2665.0, 482.0, 304.0, 379.0, 610.0, 667.0, 966.0, 712.0, 233.0, 455.0, 333.0, 273.0, 272.0, 635.0, 255.0, 372.0, 193.0, 376.0, 323.0, 495.0, 1421.0, 72.14342727406746, 102.39243683205517, 33.83066843634646, 34.72225597925629, 49.50430582178755, 33.52822187412755, 62.384350709887784, 31.61190538355152, 19.380113657756553, 19.309377573554467, 19.241858096013473, 34.62458278384827, 51.02224253860581, 24.389167065154894, 11.755256738685384, 16.201497394792, 38.67561412839596, 11.668937331939748, 19.693490830154786, 15.218532561884283, 11.645001861729314, 74.15099500147622, 9.805719611714872, 16.02916583589082, 60.469337519001584, 11.57940244400771, 11.541584243508767, 11.531265891560244, 23.075920430020535, 7.955814006111195, 105.97508387719084, 59.81882665447023, 46.281211924589385, 27.9232791398032, 159.64039117538584, 43.98994354138129, 135.1791171978577, 47.833340562458716, 212.2100533657623, 451.13992028830546, 628.9063964625486, 104.07322973636813, 159.96542826556185, 146.95146539516983, 186.32741290162872, 179.77588968014183, 186.7121091541179, 190.381300700937, 127.00208438878029, 74.02289347237706, 443.33049452403986, 513.6296964632589, 284.5313461577766, 123.07022505714943, 268.6586955849828, 252.59968441128976, 425.12258301339534, 144.90990833215403, 1615.8579488401363, 112.8389488343621, 278.9774437005973, 230.22933531853462, 231.24103802215063, 391.646355818949, 232.53945765373243, 205.25874352715644, 185.25995868381963, 199.42098734962005, 259.71857292918526, 344.7810495421741, 246.44693938160054, 206.2767488890307, 220.27437663758695, 222.61835325142914, 190.32653960447024, 197.08383561429181, 200.54547162086888, 549.2684635094671, 131.49037191184016, 222.89673866698024, 686.8390209360562, 108.21408819835202, 33.129226294080766, 20.40937322574675, 33.055633549979596, 55.79035292300295, 56.566417386462035, 64.97109512164572, 56.438471091484345, 32.172382811246464, 56.42814029931793, 55.59943259955013, 57.90115179694828, 50.762830341918274, 55.47249526712323, 182.43728131894002, 10.867609461124461, 68.169324302225, 58.04219491801212, 31.78179618164442, 54.90846059238698, 54.86373648165986, 66.97120834288472, 37.843091948734994, 30.075620821178518, 9.928750120536986, 16.027194166128787, 42.5004803093875, 41.58564166016172, 271.20956676891353, 272.6756828688187, 131.25031757304797, 82.16614006191737, 86.55362109669554, 58.97227628440769, 58.35136565241794, 89.81612365264462, 45.67987880353098, 56.58696577011844, 68.37467525103843, 208.83855337535692, 89.64492485573341, 177.78020549058985, 213.3513426371751, 124.73070671947015, 250.45960716016722, 150.5124462390886, 112.18322875072852, 88.2509717261684, 147.70398667453367, 135.68992998020664, 141.0784692055023, 72.32576767817707, 160.7493999665132, 97.64403901964644, 124.65726408930946, 115.43048366773927, 112.92230120183754, 109.69899561054464, 171.69087532989283, 118.89377469306478, 108.6394864968407, 97.20696628617979, 94.6521943592741, 33.85016049468036, 57.64143923175485, 10.635982885467913, 942.1660176430037, 37.35884403526127, 123.16749364524324, 123.72021521364432, 125.37354549894955, 78.70520988338454, 23.290979979028013, 12.031050471319135, 28.76790598881453, 249.618426117655, 122.75556250475633, 27.262497245105013, 34.2228756748974, 247.3496920845868, 31.74389946936822, 124.97031906893434, 124.46590037968556, 126.89921128842846, 10.2681847648053, 18.135673738584476, 123.4800092791087, 123.06634270583787, 14.062814428896727, 21.8538436431024, 14.79748958238525, 15.55794486534436, 9.337059653173224, 122.69832076943923, 123.12408027909322, 128.48520402706254, 24.819031988584808, 28.59677647705297, 123.48991226459786, 144.41755129894165, 124.70760760131205, 127.01161499437715, 125.98203506212901, 262.0544272609865, 382.325180577801, 262.58759077737835, 126.62521950771072, 130.24187520266713, 124.48620218860218, 492.74297294410593, 772.888488127402, 313.10298144987865, 401.87543691275823, 589.566459196748, 256.7892343807947, 408.7643888545483, 255.28177686227085, 399.8502144004807, 287.8346118246798, 861.9798775707923, 151.05847408539242, 476.56725188419676, 1370.4873566446756, 189.520815782212, 262.78879079410405, 364.61858743006115, 324.12344791912955, 174.55177143816672, 235.9038793039638, 138.19530855824857, 203.51571763016196, 152.23990438623318, 201.3661775281414, 157.43777349302985, 221.21384021312315, 174.69966887652933, 186.33570437285596, 195.19219634677245, 183.1550555049443, 69.77414179789757, 16.88356918022558, 24.20859931426237, 13.006256159796186, 64.88998389576734, 36.0187713782262, 31.40778088213961, 14.758858339455667, 14.752337003713103, 168.86617263433502, 10.109658956388731, 24.819706380314756, 11.934688575400038, 22.033945651505707, 21.09395417710141, 448.12489489894244, 14.64856595723149, 18.29842504698787, 22.805507501905765, 26.468411206334324, 31.01574872419708, 11.854654530337761, 21.003500763072616, 22.70924978815616, 12.710370953941364, 12.683568574949353, 12.68105992046674, 12.692190495893858, 13.578827883443692, 40.82401645422248, 1676.4288197660408, 51.51754968173983, 31.69948434946106, 34.17547968731125, 234.4083173089775, 169.01761686032802, 64.51960467113214, 169.05517477964634, 39.995732973808884, 176.29412172733163, 266.1209900689525, 39.910675790220225, 89.78561059415777, 437.3955798250712, 47.329006107315266, 40.52372410013639, 6516.644236112774, 37.898762099783, 518.6346340413035, 808.094886231282, 782.6407525971179, 274.1623333591603, 144.69744946154262, 183.24816636237335, 436.65853674944196, 217.15743331009588, 78.31158851492889, 264.0686425423617, 127.64027012063528, 119.05750050883056, 282.58096584715605, 204.87187413645736, 153.88953257775182, 298.87678118330604, 580.832351710025, 369.61587857964986, 159.33201086969882, 1001.7424611427858, 505.9262840018949, 395.38406233221986, 192.68182649274098, 291.50215314298407, 632.0075662426472, 328.94979270979604, 345.71582822125254, 520.7644603219846, 316.48703042261883, 401.97700063123295, 379.2950331892703, 301.4261182300155, 355.3225408176183, 384.5311294709235, 388.35482413105944, 328.99447046646856, 309.6739057125028, 282.51486639643525, 74.22411943627962, 74.18938280682003, 124.70892167879927, 249.23939436439173, 49.19149332802804, 34.829166300983744, 33.10808996121524, 20.48082563959645, 80.16282200811291, 75.83958561335594, 358.19403446120606, 13.688020222885159, 13.684907478596303, 39.252190665234956, 82.26864623452892, 10.323352459468525, 38.75216171552003, 82.82326131625176, 18.968959289867602, 28.30990262893569, 22.077621492493634, 18.05542360327839, 16.417506975532074, 16.4167515643893, 14.832188663480313, 16.390211862343445, 32.745709614258665, 117.02994836374315, 16.24610950991682, 57.00391851727155, 78.7608034933406, 20.806606419044865, 34.58931814519136, 185.23315029189192, 27.641752732667864, 128.73023108986828, 94.34186049739344, 45.897384854997355, 110.28585877700209, 297.4589785821854, 160.0476363382077, 112.2361706672401, 242.54125179035643, 162.68807874650204, 158.81357704239946, 180.89167757610556, 154.33903732314346, 270.6886161453309, 234.4547740838748, 795.072938242019, 194.46541269126465, 120.16982194382915, 338.56729835978723, 203.97080228040522, 206.51772929303044, 238.30231846025913, 163.4889701438772, 190.2034198730584, 203.69392464832424, 148.389427351395, 143.74913118387855, 145.36994460730966, 135.50316960296155, 148.87028646387162, 152.7412178779119, 136.5579200880021, 126.14805155724693], \"Total\": [1009.0, 720.0, 567.0, 1270.0, 1881.0, 10469.0, 1032.0, 727.0, 308.0, 2665.0, 482.0, 304.0, 379.0, 610.0, 667.0, 966.0, 712.0, 233.0, 455.0, 333.0, 273.0, 272.0, 635.0, 255.0, 372.0, 193.0, 376.0, 323.0, 495.0, 1421.0, 74.53733093543704, 105.90164973037045, 35.24238224219046, 36.2137491044192, 51.927872951058205, 35.202330331569385, 65.62599407625704, 33.33118739029141, 20.522383361040653, 20.535129164721077, 20.578242043439012, 37.1847696908531, 54.85826891391375, 26.308722610216183, 12.680946053246217, 17.557948226725085, 41.91431012854848, 12.689326516742428, 21.433941435662703, 16.575030049179663, 12.709896524552494, 80.96431061566696, 10.716131925390785, 17.551221442879857, 66.21870103796708, 12.707796510925734, 12.677885487881179, 12.671613120434575, 25.373856702605707, 8.766808202609045, 117.81527481764452, 66.7197228922176, 51.54401322695557, 31.103417856842185, 189.32747719869388, 50.39124931825687, 165.03003280210666, 55.548163439573706, 279.3407062825893, 635.0952216641672, 966.0862360694172, 142.908090596923, 236.40149375573853, 221.38872201011728, 301.76545618328925, 293.73433872148007, 313.2302733545931, 321.1105965125902, 200.121994711181, 101.83018856743199, 1119.4494766352725, 1421.3751089500129, 649.9407191281509, 206.22666219404806, 612.0571358947756, 575.0264852886862, 1235.9269953626906, 267.9098360419112, 10469.753355169498, 194.71297958354555, 876.0268618318328, 637.1364016578013, 646.9893861334584, 1618.6388855238242, 715.2100764883347, 574.2952202565879, 482.58669896437743, 599.5680692786772, 1133.726755753042, 2665.9644613086043, 1104.3661558195433, 725.7389174523763, 1270.1541439942916, 1362.710946753326, 722.7353289811144, 1157.9737545447715, 1483.5474995947516, 567.030990533461, 137.2314850541898, 233.03625022229005, 720.940066121971, 113.60987828675604, 34.86969247298151, 21.534709920401156, 34.87922042612463, 58.885294313585725, 59.749820063540284, 68.79966515452426, 59.76571043139378, 34.06949678503874, 59.76178633563729, 58.92554908136486, 61.442882526919675, 53.92562655367284, 58.96450287779475, 193.96054004228705, 11.62909098740398, 73.04521113623609, 62.23724004050923, 34.08957508616557, 58.930683610704044, 58.922818162082926, 72.2069699824101, 40.83261168354145, 32.505183038760364, 10.82121033978527, 17.469625254283525, 46.45135700301426, 45.64869036218835, 304.96350395156435, 308.3786763203519, 157.80418969543786, 95.72335340039933, 103.66022093880424, 69.08061372614979, 68.22472359925828, 115.71637994680722, 51.45726716682422, 68.04190594700971, 91.34877439809088, 560.3672496182653, 157.5427787603886, 577.7704560073843, 979.2250193775708, 334.4607309112728, 1618.6388855238242, 575.0264852886862, 315.82373885562583, 181.66415528507667, 717.0133139693922, 612.0571358947756, 801.7761123051341, 120.24332327103443, 1362.710946753326, 312.18334097856695, 876.0268618318328, 696.1852255868814, 715.2100764883347, 722.7353289811144, 10469.753355169498, 2665.9644613086043, 1235.9269953626906, 624.374862643878, 482.58669896437743, 34.90672502393682, 61.257618546795015, 11.370312766979799, 1009.8669140159213, 40.21683803868806, 133.40223931414025, 134.19194750688573, 136.07946798584484, 85.59853803569895, 25.363175214284883, 13.13155819141865, 31.435929531338743, 273.1275700487272, 134.35957943430157, 29.855266872793983, 37.589256063824, 272.40732231060707, 34.96200281257001, 138.05803964594102, 138.07851754191825, 140.8692759618628, 11.40320069612954, 20.14233605944436, 137.3754309401753, 137.47172243344957, 15.765822479693307, 24.502562097118602, 16.62592393137296, 17.516473640830952, 10.517777691116434, 138.41385896824087, 140.90494515967495, 147.1587106338221, 27.976723731079755, 32.35230731080951, 144.1812464510657, 170.9875769962909, 148.48188190224883, 151.38897142002642, 150.36533572117284, 323.77721237200785, 482.1327965100503, 333.8325680714487, 156.34012404444601, 161.92440500084717, 156.83403266720495, 727.4802758884746, 1270.1541439942916, 455.048331187197, 610.8252639028797, 1032.904644075956, 372.9024642791857, 667.6646348969242, 376.26073909102564, 712.8146788225897, 495.7442097477334, 2665.9644613086043, 197.83564648527366, 1483.5474995947516, 10469.753355169498, 318.8380419756157, 614.6808035454725, 1421.3751089500129, 1362.710946753326, 316.14289647521065, 682.8148995460743, 182.72259952569118, 593.4002758381822, 252.28310707338892, 621.994701427668, 281.8129745885429, 1069.432325995955, 455.251526095013, 764.1083241982504, 1235.9269953626906, 1104.3661558195433, 73.3149988146649, 17.8456276278068, 25.73632353600623, 13.847774572369413, 69.35385274362149, 38.55958497315474, 33.63108625549005, 15.810046602660334, 15.806385087596194, 181.17187035548005, 10.868165318460337, 26.705255971391942, 12.841996196824162, 23.732327993637377, 22.72620083352378, 482.8325645552625, 15.793963853795553, 19.75881640926281, 24.65024524195471, 28.62066493768512, 33.546089522495144, 12.832542668308479, 22.771305833437626, 24.66119367060604, 13.808376536823847, 13.803909731662488, 13.810646614706021, 13.824089971741913, 14.794076972018715, 44.49088433942173, 1881.4966027428336, 56.1951736881007, 34.54869169784076, 37.45333289455215, 263.5754018348562, 190.63020278225616, 71.76830618588909, 195.5189209314303, 44.30972321845175, 205.32949201243164, 316.82189018254076, 44.37444718754766, 103.77661491696595, 551.4049431809307, 53.35134875681706, 45.32225292015416, 10469.753355169498, 42.50165129884685, 708.9773578048258, 1150.426575995132, 1157.9737545447715, 366.60596040123687, 182.50233950796778, 238.35866751777633, 627.7565825483239, 293.36084695902844, 94.9045236065744, 382.2216864404078, 166.77188105182495, 154.14429951198792, 432.8242616999738, 302.12694730668704, 218.79564413018284, 489.1262392415112, 1133.726755753042, 658.8819519252881, 229.1974848152461, 2665.9644613086043, 1119.4494766352725, 801.7761123051341, 298.3365466143645, 535.6075870397895, 1618.6388855238242, 664.68969312942, 725.7389174523763, 1483.5474995947516, 698.2360793449043, 1235.9269953626906, 1104.3661558195433, 696.1852255868814, 1069.432325995955, 1362.710946753326, 1421.3751089500129, 979.2250193775708, 813.2009624465779, 764.1083241982504, 75.13122350198206, 75.13708745518562, 126.37295702163513, 255.12797030339792, 50.44351653465612, 35.92470992118313, 34.21884914965412, 21.401204186070395, 83.96013578450595, 79.7076910741786, 379.90902497853347, 14.572341022310411, 14.573047246037003, 42.02585501088338, 88.14697451267492, 11.153740714995003, 41.889503959363864, 89.68621338657249, 20.59764787423235, 30.78968723543566, 24.058164121185797, 19.739275254563456, 18.032563661705463, 18.048626889458006, 16.323636502911118, 18.051337316752743, 36.106030923320915, 129.37305681726764, 17.985397106764946, 63.45193797945507, 91.67052216559026, 23.247789357198815, 40.941423092313116, 272.1341892048059, 33.74251701351192, 219.0728136516482, 154.60104635245438, 63.80658547885206, 188.68913788319185, 840.8397964436501, 375.09175330579933, 233.3513052211723, 717.0133139693922, 417.61003211129616, 415.73291985589043, 509.56865099151526, 511.6339146678489, 1362.710946753326, 1069.432325995955, 10469.753355169498, 813.2009624465779, 338.3251162250075, 2665.9644613086043, 979.2250193775708, 1104.3661558195433, 1618.6388855238242, 722.7353289811144, 1133.726755753042, 1483.5474995947516, 637.1364016578013, 624.374862643878, 664.68969312942, 539.2722632142205, 876.0268618318328, 1150.426575995132, 801.7761123051341, 764.1083241982504], \"Category\": [\"Default\", \"Default\", \"Default\", \"Default\", \"Default\", \"Default\", \"Default\", \"Default\", \"Default\", \"Default\", \"Default\", \"Default\", \"Default\", \"Default\", \"Default\", \"Default\", \"Default\", \"Default\", \"Default\", \"Default\", \"Default\", \"Default\", \"Default\", \"Default\", \"Default\", \"Default\", \"Default\", \"Default\", \"Default\", \"Default\", \"Topic1\", \"Topic1\", \"Topic1\", \"Topic1\", \"Topic1\", \"Topic1\", \"Topic1\", \"Topic1\", \"Topic1\", \"Topic1\", \"Topic1\", \"Topic1\", \"Topic1\", \"Topic1\", \"Topic1\", \"Topic1\", \"Topic1\", \"Topic1\", \"Topic1\", \"Topic1\", \"Topic1\", \"Topic1\", \"Topic1\", \"Topic1\", \"Topic1\", \"Topic1\", \"Topic1\", \"Topic1\", \"Topic1\", \"Topic1\", \"Topic1\", \"Topic1\", \"Topic1\", \"Topic1\", \"Topic1\", \"Topic1\", \"Topic1\", \"Topic1\", \"Topic1\", \"Topic1\", \"Topic1\", \"Topic1\", \"Topic1\", \"Topic1\", \"Topic1\", \"Topic1\", \"Topic1\", \"Topic1\", \"Topic1\", \"Topic1\", \"Topic1\", \"Topic1\", \"Topic1\", \"Topic1\", \"Topic1\", \"Topic1\", \"Topic1\", \"Topic1\", \"Topic1\", \"Topic1\", \"Topic1\", \"Topic1\", \"Topic1\", \"Topic1\", \"Topic1\", \"Topic1\", \"Topic1\", \"Topic1\", \"Topic1\", \"Topic1\", \"Topic1\", \"Topic1\", \"Topic1\", \"Topic1\", \"Topic1\", \"Topic1\", \"Topic1\", \"Topic2\", \"Topic2\", \"Topic2\", \"Topic2\", \"Topic2\", \"Topic2\", \"Topic2\", \"Topic2\", \"Topic2\", \"Topic2\", \"Topic2\", \"Topic2\", \"Topic2\", \"Topic2\", \"Topic2\", \"Topic2\", \"Topic2\", \"Topic2\", \"Topic2\", \"Topic2\", \"Topic2\", \"Topic2\", \"Topic2\", \"Topic2\", \"Topic2\", \"Topic2\", \"Topic2\", \"Topic2\", \"Topic2\", \"Topic2\", \"Topic2\", \"Topic2\", \"Topic2\", \"Topic2\", \"Topic2\", \"Topic2\", \"Topic2\", \"Topic2\", \"Topic2\", \"Topic2\", \"Topic2\", \"Topic2\", \"Topic2\", \"Topic2\", \"Topic2\", \"Topic2\", \"Topic2\", \"Topic2\", \"Topic2\", \"Topic2\", \"Topic2\", \"Topic2\", \"Topic2\", \"Topic2\", \"Topic2\", \"Topic2\", \"Topic2\", \"Topic2\", \"Topic2\", \"Topic2\", \"Topic2\", \"Topic2\", \"Topic2\", \"Topic2\", \"Topic2\", \"Topic2\", \"Topic2\", \"Topic3\", \"Topic3\", \"Topic3\", \"Topic3\", \"Topic3\", \"Topic3\", \"Topic3\", \"Topic3\", \"Topic3\", \"Topic3\", \"Topic3\", \"Topic3\", \"Topic3\", \"Topic3\", \"Topic3\", \"Topic3\", \"Topic3\", \"Topic3\", \"Topic3\", \"Topic3\", \"Topic3\", \"Topic3\", \"Topic3\", \"Topic3\", \"Topic3\", \"Topic3\", \"Topic3\", \"Topic3\", \"Topic3\", \"Topic3\", \"Topic3\", \"Topic3\", \"Topic3\", \"Topic3\", \"Topic3\", \"Topic3\", \"Topic3\", \"Topic3\", \"Topic3\", \"Topic3\", \"Topic3\", \"Topic3\", \"Topic3\", \"Topic3\", \"Topic3\", \"Topic3\", \"Topic3\", \"Topic3\", \"Topic3\", \"Topic3\", \"Topic3\", \"Topic3\", \"Topic3\", \"Topic3\", \"Topic3\", \"Topic3\", \"Topic3\", \"Topic3\", \"Topic3\", \"Topic3\", \"Topic3\", \"Topic3\", \"Topic3\", \"Topic3\", \"Topic3\", \"Topic3\", \"Topic3\", \"Topic3\", \"Topic3\", \"Topic3\", \"Topic3\", \"Topic3\", \"Topic3\", \"Topic3\", \"Topic3\", \"Topic3\", \"Topic4\", \"Topic4\", \"Topic4\", \"Topic4\", \"Topic4\", \"Topic4\", \"Topic4\", \"Topic4\", \"Topic4\", \"Topic4\", \"Topic4\", \"Topic4\", \"Topic4\", \"Topic4\", \"Topic4\", \"Topic4\", \"Topic4\", \"Topic4\", \"Topic4\", \"Topic4\", \"Topic4\", \"Topic4\", \"Topic4\", \"Topic4\", \"Topic4\", \"Topic4\", \"Topic4\", \"Topic4\", \"Topic4\", \"Topic4\", \"Topic4\", \"Topic4\", \"Topic4\", \"Topic4\", \"Topic4\", \"Topic4\", \"Topic4\", \"Topic4\", \"Topic4\", \"Topic4\", \"Topic4\", \"Topic4\", \"Topic4\", \"Topic4\", \"Topic4\", \"Topic4\", \"Topic4\", \"Topic4\", \"Topic4\", \"Topic4\", \"Topic4\", \"Topic4\", \"Topic4\", \"Topic4\", \"Topic4\", \"Topic4\", \"Topic4\", \"Topic4\", \"Topic4\", \"Topic4\", \"Topic4\", \"Topic4\", \"Topic4\", \"Topic4\", \"Topic4\", \"Topic4\", \"Topic4\", \"Topic4\", \"Topic4\", \"Topic4\", \"Topic4\", \"Topic4\", \"Topic4\", \"Topic4\", \"Topic4\", \"Topic4\", \"Topic4\", \"Topic4\", \"Topic4\", \"Topic4\", \"Topic4\", \"Topic4\", \"Topic4\", \"Topic4\", \"Topic4\", \"Topic4\", \"Topic5\", \"Topic5\", \"Topic5\", \"Topic5\", \"Topic5\", \"Topic5\", \"Topic5\", \"Topic5\", \"Topic5\", \"Topic5\", \"Topic5\", \"Topic5\", \"Topic5\", \"Topic5\", \"Topic5\", \"Topic5\", \"Topic5\", \"Topic5\", \"Topic5\", \"Topic5\", \"Topic5\", \"Topic5\", \"Topic5\", \"Topic5\", \"Topic5\", \"Topic5\", \"Topic5\", \"Topic5\", \"Topic5\", \"Topic5\", \"Topic5\", \"Topic5\", \"Topic5\", \"Topic5\", \"Topic5\", \"Topic5\", \"Topic5\", \"Topic5\", \"Topic5\", \"Topic5\", \"Topic5\", \"Topic5\", \"Topic5\", \"Topic5\", \"Topic5\", \"Topic5\", \"Topic5\", \"Topic5\", \"Topic5\", \"Topic5\", \"Topic5\", \"Topic5\", \"Topic5\", \"Topic5\", \"Topic5\", \"Topic5\", \"Topic5\", \"Topic5\", \"Topic5\", \"Topic5\", \"Topic5\", \"Topic5\", \"Topic5\", \"Topic5\", \"Topic5\", \"Topic5\", \"Topic5\"], \"logprob\": [30.0, 29.0, 28.0, 27.0, 26.0, 25.0, 24.0, 23.0, 22.0, 21.0, 20.0, 19.0, 18.0, 17.0, 16.0, 15.0, 14.0, 13.0, 12.0, 11.0, 10.0, 9.0, 8.0, 7.0, 6.0, 5.0, 4.0, 3.0, 2.0, 1.0, -6.97730016708374, -6.627200126647949, -7.734600067138672, -7.708600044250488, -7.353899955749512, -7.743599891662598, -7.122700214385986, -7.802499771118164, -8.29170036315918, -8.29539966583252, -8.29889965057373, -7.711400032043457, -7.323699951171875, -8.06190013885498, -8.79170036315918, -8.47089958190918, -7.600800037384033, -8.799099922180176, -8.275699615478516, -8.533499717712402, -8.80109977722168, -6.949900150299072, -8.972999572753906, -8.481599807739258, -7.153900146484375, -8.80679988861084, -8.8100004196167, -8.81089973449707, -8.117199897766113, -9.182100296020508, -6.592800140380859, -7.164700031280518, -7.421299934387207, -7.926499843597412, -6.18310022354126, -7.4720001220703125, -6.349400043487549, -7.388299942016602, -5.898399829864502, -5.144199848175049, -4.811999797821045, -6.610899925231934, -6.181000232696533, -6.265900135040283, -6.028500080108643, -6.064300060272217, -6.026400089263916, -6.006999969482422, -6.411799907684326, -6.951600074768066, -5.1616997718811035, -5.014500141143799, -5.605100154876709, -6.44320011138916, -5.662600040435791, -5.7241997718811035, -5.20359992980957, -6.279900074005127, -3.8684000968933105, -6.53000020980835, -5.624899864196777, -5.81689977645874, -5.8125, -5.285600185394287, -5.8069000244140625, -5.931700229644775, -6.034200191497803, -5.960599899291992, -5.696400165557861, -5.413099765777588, -5.748799800872803, -5.926799774169922, -5.861100196838379, -5.850500106811523, -6.007299900054932, -5.972400188446045, -5.954999923706055, -4.343400001525879, -5.773099899291992, -5.245299816131592, -4.119900226593018, -5.967899799346924, -7.151599884033203, -7.636000156402588, -7.153800010681152, -6.63040018081665, -6.616600036621094, -6.478099822998047, -6.618899822235107, -7.1809000968933105, -6.61899995803833, -6.633800029754639, -6.593299865722656, -6.724800109863281, -6.636099815368652, -5.4456000328063965, -8.266200065612793, -6.429999828338623, -6.590799808502197, -7.1930999755859375, -6.646299839019775, -6.647200107574463, -6.447800159454346, -7.018599987030029, -7.248300075531006, -8.356599807739258, -7.877699851989746, -6.902500152587891, -6.924300193786621, -5.049099922180176, -5.043700218200684, -5.774899959564209, -6.243299961090088, -6.191299915313721, -6.574900150299072, -6.5854997634887695, -6.154200077056885, -6.830399990081787, -6.616199970245361, -6.427000045776367, -5.310500144958496, -6.156199932098389, -5.471499919891357, -5.289100170135498, -5.825900077819824, -5.128699779510498, -5.638000011444092, -5.9319000244140625, -6.171800136566162, -5.656799793243408, -5.741600036621094, -5.702700138092041, -6.370800018310547, -5.572199821472168, -6.070700168609619, -5.826399803161621, -5.903299808502197, -5.925300121307373, -5.9542999267578125, -5.50629997253418, -5.873799800872803, -5.964000225067139, -6.075200080871582, -6.101799964904785, -7.466000080108643, -6.933700084686279, -8.623700141906738, -4.139699935913086, -7.367400169372559, -6.1743998527526855, -6.169899940490723, -6.156599998474121, -6.622200012207031, -7.839900016784668, -8.500399589538574, -7.628699779510498, -5.4679999351501465, -6.177700042724609, -7.682400226593018, -7.454999923706055, -5.477099895477295, -7.530200004577637, -6.159900188446045, -6.163899898529053, -6.144499778747559, -8.658900260925293, -8.09000015258789, -6.171899795532227, -6.17519998550415, -8.344400405883789, -7.903600215911865, -8.293499946594238, -8.243399620056152, -8.753899574279785, -6.178199768066406, -6.174699783325195, -6.1321001052856445, -7.776299953460693, -7.6346001625061035, -6.171800136566162, -6.015200138092041, -6.1620001792907715, -6.143700122833252, -6.151800155639648, -5.419400215148926, -5.0416998863220215, -5.417300224304199, -6.146699905395508, -6.118500232696533, -6.163700103759766, -4.787899971008301, -4.337800025939941, -5.241399765014648, -4.991799831390381, -4.608500003814697, -5.439700126647949, -4.974800109863281, -5.4456000328063965, -4.996799945831299, -5.325500011444092, -4.228700160980225, -5.970300197601318, -4.821300029754639, -3.765000104904175, -5.7434000968933105, -5.416600227355957, -5.089099884033203, -5.2067999839782715, -5.825699806213379, -5.524499893188477, -6.059299945831299, -5.6722002029418945, -5.962500095367432, -5.682799816131592, -5.928899765014648, -5.588799953460693, -5.824900150299072, -5.76039981842041, -5.713900089263916, -5.777599811553955, -7.5569000244140625, -8.975799560546875, -8.615400314331055, -9.236700057983398, -7.62939977645874, -8.218099594116211, -8.35509967803955, -9.110300064086914, -9.110699653625488, -6.672999858856201, -9.48859977722168, -8.590499877929688, -9.322699546813965, -8.709500312805176, -8.753100395202637, -5.697000026702881, -9.117799758911133, -8.895299911499023, -8.675100326538086, -8.526200294494629, -8.367600440979004, -9.329400062561035, -8.757399559020996, -8.679300308227539, -9.259699821472168, -9.261799812316895, -9.26200008392334, -9.261099815368652, -9.193599700927734, -8.09280014038086, -4.377699851989746, -7.860199928283691, -8.345800399780273, -8.270600318908691, -6.345099925994873, -6.672100067138672, -7.6350998878479, -6.671899795532227, -8.113300323486328, -6.630000114440918, -6.218200206756592, -8.115500450134277, -7.304699897766113, -5.72130012512207, -7.945000171661377, -8.100199699401855, -3.0199999809265137, -8.167200088500977, -5.550899982452393, -5.107399940490723, -5.139400005340576, -6.188399791717529, -6.827499866485596, -6.591300010681152, -5.7230000495910645, -6.421500205993652, -7.441400051116943, -6.225900173187256, -6.952899932861328, -7.022500038146973, -6.158199787139893, -6.479700088500977, -6.765900135040283, -6.102099895477295, -5.437699794769287, -5.889699935913086, -6.731100082397461, -4.892600059509277, -5.575699806213379, -5.822299957275391, -6.541100025177002, -6.127099990844727, -5.3531999588012695, -6.006199836730957, -5.956500053405762, -5.546800136566162, -6.0447998046875, -5.805699825286865, -5.863800048828125, -6.093599796295166, -5.929100036621094, -5.850100040435791, -5.840199947357178, -6.006100177764893, -6.0665998458862305, -6.158400058746338, -6.854000091552734, -6.854499816894531, -6.335100173950195, -5.6427001953125, -7.265399932861328, -7.6107001304626465, -7.661300182342529, -8.141599655151367, -6.7769999504089355, -6.832499980926514, -5.28000020980835, -8.544599533081055, -8.5447998046875, -7.491099834442139, -6.751100063323975, -8.826700210571289, -7.503900051116943, -6.7444000244140625, -8.218299865722656, -7.81790018081665, -8.066499710083008, -8.2677001953125, -8.362799644470215, -8.362799644470215, -8.464300155639648, -8.364399909973145, -7.672299861907959, -6.39870023727417, -8.373299598693848, -7.118000030517578, -6.7947001457214355, -8.125800132751465, -7.617599964141846, -5.939499855041504, -7.841800212860107, -6.303400039672852, -6.614200115203857, -7.334700107574463, -6.458000183105469, -5.465799808502197, -6.085599899291992, -6.440499782562256, -5.669899940490723, -6.069300174713135, -6.093400001525879, -5.963200092315674, -6.122000217437744, -5.560100078582764, -5.703800201416016, -4.482699871063232, -5.890900135040283, -6.372200012207031, -5.336400032043457, -5.843100070953369, -5.830699920654297, -5.687600135803223, -6.0644001960754395, -5.913000106811523, -5.8445000648498535, -6.161300182342529, -6.192999839782715, -6.18179988861084, -6.252099990844727, -6.1579999923706055, -6.132400035858154, -6.2444000244140625, -6.323599815368652], \"loglift\": [30.0, 29.0, 28.0, 27.0, 26.0, 25.0, 24.0, 23.0, 22.0, 21.0, 20.0, 19.0, 18.0, 17.0, 16.0, 15.0, 14.0, 13.0, 12.0, 11.0, 10.0, 9.0, 8.0, 7.0, 6.0, 5.0, 4.0, 3.0, 2.0, 1.0, 1.5662, 1.5652, 1.558, 1.5568, 1.5511, 1.5502, 1.5482, 1.5459, 1.5416, 1.5373, 1.5317, 1.5276, 1.5264, 1.5231, 1.5231, 1.5185, 1.5185, 1.5151, 1.5142, 1.5135, 1.5114, 1.511, 1.5101, 1.5082, 1.5081, 1.5059, 1.505, 1.5046, 1.504, 1.5018, 1.493, 1.4897, 1.4912, 1.491, 1.4283, 1.463, 1.3994, 1.4494, 1.324, 1.2569, 1.1696, 1.2818, 1.2083, 1.1891, 1.1167, 1.1079, 1.0815, 1.0761, 1.1442, 1.28, 0.6726, 0.581, 0.7728, 1.0827, 0.7755, 0.7763, 0.5317, 0.9843, -0.2697, 1.0533, 0.4546, 0.581, 0.57, 0.1799, 0.4754, 0.57, 0.6415, 0.4981, 0.1252, -0.4465, 0.099, 0.3409, -0.1531, -0.2129, 0.2646, -0.1719, -0.4023, 2.171, 2.1601, 2.1584, 2.1544, 2.1542, 2.1517, 2.1492, 2.1492, 2.1489, 2.1481, 2.1456, 2.1456, 2.1456, 2.1455, 2.1448, 2.1435, 2.1424, 2.1418, 2.1416, 2.1351, 2.1338, 2.1331, 2.1328, 2.1322, 2.1315, 2.1276, 2.1268, 2.1252, 2.1168, 2.1167, 2.114, 2.1096, 2.0856, 2.0798, 2.0186, 2.0501, 2.0225, 2.0447, 2.0465, 1.9495, 2.0838, 2.0185, 1.9132, 1.2158, 1.639, 1.0242, 0.679, 1.2165, 0.3368, 0.8625, 1.1678, 1.4809, 0.623, 0.6964, 0.4654, 1.6945, 0.0655, 1.0406, 0.253, 0.4059, 0.357, 0.3176, -1.9077, -0.9072, -0.2287, 0.343, 0.5739, 1.8362, 1.8061, 1.8002, 1.7976, 1.7932, 1.7871, 1.7857, 1.785, 1.783, 1.7817, 1.7794, 1.7783, 1.7769, 1.7766, 1.7761, 1.7731, 1.7705, 1.7704, 1.7674, 1.7632, 1.7625, 1.7621, 1.762, 1.7603, 1.7563, 1.7526, 1.7525, 1.7504, 1.7484, 1.7479, 1.7464, 1.7321, 1.7313, 1.7472, 1.7436, 1.712, 1.6981, 1.6925, 1.6914, 1.69, 1.6554, 1.635, 1.6269, 1.6561, 1.6492, 1.636, 1.4773, 1.3702, 1.4931, 1.4483, 1.3062, 1.4939, 1.3763, 1.479, 1.2888, 1.3233, 0.7379, 1.5972, 0.7314, -0.1664, 1.3468, 1.0172, 0.5064, 0.4308, 1.273, 0.8041, 1.5876, 0.7968, 1.3619, 0.7391, 1.2847, 0.2912, 0.9092, 0.4558, 0.0214, 0.0703, 1.0033, 0.9973, 0.9916, 0.9901, 0.9862, 0.9846, 0.9844, 0.984, 0.9837, 0.9824, 0.9804, 0.9795, 0.9795, 0.9785, 0.9782, 0.9782, 0.9775, 0.976, 0.975, 0.9746, 0.9743, 0.9735, 0.9719, 0.9703, 0.9699, 0.9681, 0.9674, 0.9673, 0.967, 0.9667, 0.9374, 0.9659, 0.9667, 0.9612, 0.9355, 0.9324, 0.9463, 0.9073, 0.9503, 0.9003, 0.8784, 0.9467, 0.9079, 0.8211, 0.933, 0.9409, 0.5786, 0.9381, 0.7401, 0.6996, 0.661, 0.7622, 0.8206, 0.7898, 0.6898, 0.752, 0.8606, 0.683, 0.7854, 0.7945, 0.6264, 0.6643, 0.7009, 0.5602, 0.384, 0.4747, 0.6892, 0.0739, 0.2586, 0.3458, 0.6156, 0.4444, 0.1123, 0.3493, 0.3112, 0.0059, 0.2615, -0.0704, -0.016, 0.2157, -0.0491, -0.2124, -0.2447, -0.038, 0.0873, 0.0578, 1.6816, 1.6811, 1.6805, 1.6704, 1.6686, 1.6628, 1.6608, 1.6498, 1.6475, 1.644, 1.6349, 1.6312, 1.6309, 1.6255, 1.6248, 1.6164, 1.6159, 1.6142, 1.6114, 1.6098, 1.6079, 1.6046, 1.5999, 1.599, 1.598, 1.5972, 1.5961, 1.5935, 1.5921, 1.5866, 1.542, 1.5828, 1.5252, 1.3091, 1.4943, 1.1621, 1.1998, 1.3643, 1.1567, 0.6546, 0.8421, 0.9618, 0.6098, 0.7511, 0.7315, 0.6581, 0.4953, 0.0775, 0.1762, -0.884, 0.263, 0.6587, -0.3698, 0.125, 0.0171, -0.222, 0.2075, -0.0914, -0.2918, 0.2366, 0.2251, 0.1737, 0.3125, -0.0785, -0.3254, -0.0763, -0.1075]}, \"token.table\": {\"Topic\": [1, 2, 5, 1, 2, 3, 4, 5, 1, 2, 3, 4, 5, 4, 5, 1, 2, 3, 4, 5, 1, 2, 3, 4, 5, 5, 1, 1, 2, 3, 4, 5, 3, 2, 3, 4, 5, 1, 2, 3, 4, 5, 1, 2, 4, 5, 1, 2, 3, 4, 1, 2, 3, 4, 5, 1, 3, 4, 1, 2, 3, 4, 5, 1, 3, 4, 5, 1, 2, 3, 4, 4, 5, 1, 3, 4, 5, 1, 2, 3, 4, 5, 1, 2, 3, 4, 5, 1, 2, 3, 4, 5, 1, 2, 3, 4, 5, 1, 2, 3, 4, 5, 1, 2, 3, 4, 5, 1, 2, 3, 4, 5, 3, 1, 2, 5, 1, 2, 3, 4, 5, 1, 2, 4, 1, 1, 2, 3, 4, 5, 5, 1, 2, 3, 4, 5, 4, 1, 2, 3, 4, 5, 1, 2, 3, 4, 5, 1, 2, 3, 4, 5, 1, 2, 3, 4, 5, 1, 5, 1, 2, 3, 4, 5, 1, 2, 4, 5, 1, 2, 5, 1, 4, 5, 1, 2, 3, 4, 5, 1, 4, 2, 3, 1, 2, 3, 4, 5, 1, 2, 3, 4, 5, 1, 2, 4, 5, 1, 2, 3, 4, 5, 1, 2, 3, 4, 5, 1, 2, 3, 4, 5, 1, 2, 3, 4, 5, 1, 2, 3, 4, 5, 1, 2, 3, 4, 5, 1, 2, 3, 4, 5, 1, 2, 3, 4, 5, 1, 4, 1, 2, 3, 4, 5, 1, 2, 3, 4, 5, 1, 2, 3, 4, 5, 1, 2, 3, 4, 5, 1, 2, 3, 4, 5, 1, 2, 3, 4, 5, 1, 4, 1, 3, 4, 1, 2, 3, 4, 1, 2, 3, 4, 5, 2, 4, 5, 3, 1, 2, 3, 4, 5, 4, 5, 4, 5, 1, 2, 3, 4, 5, 1, 4, 5, 1, 2, 3, 4, 5, 1, 2, 4, 5, 1, 2, 3, 4, 5, 1, 2, 3, 4, 5, 3, 1, 2, 1, 2, 3, 4, 5, 5, 1, 2, 3, 4, 5, 3, 4, 5, 1, 2, 4, 1, 2, 3, 4, 5, 1, 2, 3, 4, 5, 1, 2, 3, 4, 5, 1, 2, 3, 4, 5, 1, 2, 3, 4, 5, 5, 1, 2, 4, 1, 3, 4, 5, 1, 4, 1, 2, 3, 4, 5, 1, 2, 3, 4, 5, 1, 2, 3, 4, 5, 1, 3, 5, 5, 1, 2, 3, 4, 5, 4, 1, 2, 3, 4, 5, 1, 2, 3, 4, 5, 1, 2, 3, 4, 5, 1, 2, 3, 4, 5, 4, 5, 1, 2, 3, 4, 5, 1, 2, 3, 4, 5, 1, 2, 3, 4, 5, 3, 4, 5, 1, 2, 4, 1, 2, 3, 4, 5, 1, 2, 3, 4, 5, 1, 2, 3, 4, 3, 4, 5, 1, 2, 3, 4, 5, 1, 3, 4, 5, 1, 2, 3, 4, 5, 2, 1, 2, 3, 4, 5, 1, 2, 5, 1, 2, 3, 4, 5, 1, 2, 3, 4, 5, 1, 2, 4, 5, 1, 2, 3, 4, 5, 1, 2, 3, 4, 5, 1, 4, 1, 2, 4, 5, 3, 4, 5, 4, 1, 2, 4, 5, 1, 2, 3, 4, 5, 3, 1, 2, 3, 4, 5, 1, 2, 3, 4, 5, 1, 2, 3, 4, 5, 1, 2, 3, 5, 1, 2, 3, 4, 5, 1, 2, 4, 5, 1, 2, 3, 4, 5, 1, 2, 3, 4, 5, 5, 1, 2, 3, 4, 5, 1, 4, 1, 4, 1, 1, 2, 3, 4, 5, 1, 2, 3, 4, 5, 1, 2, 3, 4, 5, 1, 5, 3, 5, 1, 2, 3, 4, 5, 4, 5, 1, 2, 3, 4, 5, 1, 2, 3, 4, 5, 1, 2, 3, 4, 5, 1, 2, 3, 4, 5, 1, 2, 3, 4, 5, 1, 2, 4, 5, 1, 2, 3, 4, 5, 1, 2, 3, 4, 5, 1, 2, 3, 4, 5, 1, 4, 5, 4, 1, 2, 3, 4, 5, 4, 1, 2, 3, 4, 5, 1, 2, 3, 4, 5, 1, 2, 4, 5, 1, 2, 3, 4, 5, 1, 2, 3, 4, 5, 1, 2, 3, 4, 1, 2, 3, 4, 5, 4, 1, 2, 3, 4, 5, 1, 2, 3, 4, 5, 1, 2, 3, 4, 5, 1, 2, 3, 4, 5, 1, 2, 3, 4, 5, 1, 3, 5, 1, 2, 3, 4, 5, 4, 1, 2, 4, 5, 4, 1, 2, 3, 4, 5, 1, 2, 3, 4, 5, 1, 2, 3, 4, 5, 1, 4, 1, 2, 4, 1, 2, 3, 4, 5, 1, 2, 4, 5, 1, 3, 4, 5, 1, 3, 4, 5, 1, 2, 3, 4, 5, 1, 2, 3, 4, 5, 2, 4, 5, 1, 2, 3, 4, 5, 1, 2, 3, 4, 5, 1, 2, 3, 4, 5, 1, 2, 3, 4, 5, 5, 4, 2, 5, 1, 2, 3, 4, 5, 1, 2, 3, 4, 5, 3, 4, 5, 1, 2, 4, 5, 1, 2, 3, 4, 5, 1, 2, 3, 4, 5, 1, 2, 3, 4, 5, 1, 1, 2, 3, 4, 5, 5, 1, 2, 3, 4, 5, 1, 2, 3, 4, 5, 1, 2, 4, 1, 2, 3, 4, 5, 1, 4, 1, 2, 3, 4, 5, 1, 2, 3, 4, 5, 1, 2, 3, 4, 5, 1, 2, 3, 4, 5, 4, 1, 2, 3, 4, 5, 1, 2, 3, 4, 5, 1, 2, 3, 4, 5, 1, 2, 3, 4, 5, 1, 2, 3, 4, 5, 1, 5, 1, 5, 1, 2, 1, 2, 3, 4, 5, 4, 1, 2, 3, 4, 5, 1, 2, 3, 4, 5, 3, 5, 1, 2, 3, 4, 5, 1, 2, 3, 4, 5, 1, 1, 2, 3, 4, 5, 1, 2, 3, 4, 5, 3, 4, 1, 2, 4, 1, 2, 3, 4, 5, 1, 2, 3, 4, 5, 1, 2, 4, 5, 1, 2, 3, 4, 5, 1, 2, 3, 4, 1, 5, 1, 1, 2, 3, 4, 5, 1, 2, 3, 4, 5, 1, 2, 3, 4, 5, 1, 2, 4, 5, 1, 2, 3, 4, 5, 1, 4, 1, 3, 4, 5, 1, 1, 2, 3, 4, 5, 1, 2, 3, 4, 5, 1, 2, 3, 5, 4, 1, 2, 5, 1, 3, 4, 1, 2, 4, 5, 1, 2, 3, 4, 5, 1, 2, 3, 4, 5, 1, 3, 4, 5, 1, 2, 3, 4, 5, 2, 1, 2, 3, 4, 5, 1, 3, 4, 5, 1, 2, 3, 4, 5, 1, 3, 4, 5, 1, 5, 1, 2, 3, 4, 5, 1, 2, 3, 4, 5, 1, 2, 4, 5, 5, 5, 1, 2, 3, 4, 5, 1, 2, 3, 4, 5, 1, 4, 5, 1, 2, 3, 4, 5, 1, 2, 3, 4, 5, 1, 2, 3, 4, 5, 1, 2, 3, 4, 5, 1, 2, 3, 4, 5, 1, 2, 3, 4, 5, 1, 2, 3, 4, 1, 2, 3, 4, 5, 1, 2, 3, 4, 5, 1, 2, 3, 4, 5, 1, 3, 4, 5, 1, 2, 4, 5, 1, 2, 3, 4, 5, 1, 3, 4, 2, 5, 1, 2, 4, 5, 1, 2, 3, 4, 5, 1, 3, 4, 5, 3, 4, 5, 1, 2, 3, 4, 5, 1, 2, 3, 4, 5, 5, 1, 2, 3, 4, 5, 1, 2, 3, 4, 1, 3, 4, 5, 1, 2, 3, 4, 5, 1, 2, 3, 4, 5, 1, 2, 3, 4, 5, 1, 2, 3, 4, 5, 1, 2, 3, 4, 5], \"Freq\": [0.02387232851862078, 0.04774465703724156, 0.9310208122262104, 0.010528836476643369, 0.03685092766825179, 0.007896627357482526, 0.005264418238321684, 0.9423308646595815, 0.09649323953484806, 0.025172149443873408, 0.02097679120322784, 0.767750558038139, 0.08810252305355692, 0.05066042127199242, 0.9118875828958635, 0.014486660864728575, 0.014486660864728575, 0.905416304045536, 0.06518997389127859, 0.007243330432364288, 0.021290948991182453, 0.014193965994121633, 0.8729289086384805, 0.06387284697354735, 0.021290948991182453, 0.9345268530738841, 0.9456766664619337, 0.05250523925219184, 0.03706252182507659, 0.809198393180839, 0.030885434854230495, 0.06794795667930709, 0.9740243456435673, 0.956932665142369, 0.004291177870593583, 0.004291177870593583, 0.03432942296474866, 0.19764088978254132, 0.10741352705572897, 0.08879518236606929, 0.45256899399480477, 0.15324329859950667, 0.01854405899215075, 0.9457470085996881, 0.01854405899215075, 0.01854405899215075, 0.9139829566544925, 0.02470224207174304, 0.03705336310761456, 0.02470224207174304, 0.05677524259967298, 0.07096905324959123, 0.5571070680092911, 0.14193810649918245, 0.17387418046149852, 0.9064447817125912, 0.03941064268315614, 0.03941064268315614, 0.03147455079221308, 0.010491516930737691, 0.01573727539610654, 0.886533180647335, 0.0577033431190573, 0.028602480394528954, 0.9152793726249265, 0.028602480394528954, 0.05720496078905791, 0.014885429147818593, 0.014885429147818593, 0.9154538925908434, 0.044656287443455775, 0.055397557668591065, 0.886360922697457, 0.012545840765471016, 0.012545840765471016, 0.012545840765471016, 0.9534838981757972, 0.013933727199996502, 0.013933727199996502, 0.027867454399993004, 0.9056922679997726, 0.05573490879998601, 0.015759959929415982, 0.04727987978824795, 0.015759959929415982, 0.031519919858831964, 0.8983177159767111, 0.07851993497117075, 0.37296969111306105, 0.13205625426969628, 0.20700710128763197, 0.21057618924086702, 0.0069316064353105835, 0.007921835926069239, 0.9327961802946528, 0.011882753889103858, 0.040599409121104844, 0.026939313731444686, 0.013469656865722343, 0.8418535541076464, 0.0942875980600564, 0.026939313731444686, 0.02949833013644149, 0.013408331880200677, 0.6891882586423148, 0.23866830746757203, 0.02949833013644149, 0.08856754433574797, 0.031631265834195704, 0.5535471520984249, 0.2657026330072439, 0.06326253166839141, 0.8556940700126809, 0.019433601025837705, 0.8939456471885344, 0.09716800512918854, 0.12304732723159939, 0.03025753948318018, 0.5809447580770595, 0.22592296147441202, 0.04034338597757357, 0.029351769012307207, 0.9392566083938306, 0.029351769012307207, 0.9463016362985078, 0.025925456719083737, 0.7777637015725122, 0.04320909453180623, 0.08641818906361246, 0.06913455125088996, 0.984943363767366, 0.006336967363984444, 0.8301427246819622, 0.05069573891187555, 0.03168483681992222, 0.07604360836781333, 0.9414575250994867, 0.1401867499726294, 0.09099841664889978, 0.14879470830428207, 0.38120958325890447, 0.2385634166200886, 0.0237948757911298, 0.0237948757911298, 0.0237948757911298, 0.0237948757911298, 0.9280001558540621, 0.11734799080871684, 0.07973645529310247, 0.08876322381684992, 0.4949678073854852, 0.21814690599056338, 0.06313001308324616, 0.03647511867032, 0.561155671851077, 0.29320383854218773, 0.04489245374808616, 0.04854923271365366, 0.9224354215594195, 0.12110259156781081, 0.48441036627124323, 0.03302797951849386, 0.2256911933763747, 0.13211191807397543, 0.021906433504789404, 0.920070207201155, 0.021906433504789404, 0.06571930051436821, 0.021527896374159947, 0.9256995440888778, 0.06458368912247985, 0.0349397892109519, 0.9084345194847495, 0.0349397892109519, 0.04799354586664419, 0.03490439699392305, 0.06108269473936534, 0.6937248902542207, 0.1614328360968941, 0.9441461601846134, 0.0786788466820511, 0.9158753989915626, 0.05724221243697266, 0.8997135572112164, 0.008487863747275627, 0.03395145498910251, 0.02546359124182688, 0.03395145498910251, 0.019293804140941385, 0.8392804801309501, 0.009646902070470692, 0.03858760828188277, 0.09646902070470692, 0.017604103007239538, 0.9506215623909351, 0.017604103007239538, 0.017604103007239538, 0.22122666749680137, 0.033519192044969906, 0.0368711112494669, 0.6469204064679192, 0.060334545680945824, 0.10910897344991734, 0.0245495190262314, 0.051826762388710736, 0.7473964681319337, 0.06546538406995041, 0.12940907690519426, 0.04463675406295107, 0.32333514287616655, 0.37584897118552074, 0.12715848426336482, 0.02769620405310458, 0.02769620405310458, 0.02769620405310458, 0.02769620405310458, 0.9139747337524511, 0.04148234707278017, 0.03318587765822413, 0.7923128290901011, 0.09748351562103338, 0.03525999501186314, 0.06855712351876182, 0.1188323474325205, 0.03199332430875552, 0.7038531347926213, 0.07312759842001261, 0.17012475388740192, 0.01899870347981138, 0.0449060264068269, 0.676181128395105, 0.09067563024455431, 0.17430898344322865, 0.038941368641572355, 0.07231968462006294, 0.4635877219234804, 0.25219172072637336, 0.925818393787014, 0.9387790025076675, 0.14052471831878036, 0.3737359529754797, 0.11062584208074198, 0.20929213366626861, 0.16444381930921106, 0.03709805492001005, 0.010599444262860015, 0.3179833278858004, 0.05299722131430007, 0.5829694344573008, 0.2944617742346823, 0.07158186776975702, 0.42786434598741124, 0.1301488504904673, 0.07808931029428037, 0.2628901513197853, 0.15219956129040202, 0.08440157489740475, 0.27395921032272363, 0.22553207718486845, 0.5964311243337862, 0.11152777121688684, 0.04364130178052094, 0.17941424065325276, 0.07273550296753489, 0.014645171116509337, 0.014645171116509337, 0.9153231947818335, 0.05125809890778268, 0.0073225855582546686, 0.04400207528417526, 0.9240435809676806, 0.941245576911815, 0.026892730768909, 0.026892730768909, 0.014697294379546241, 0.014697294379546241, 0.9185808987216401, 0.051440530328411845, 0.15451849123785663, 0.03823137927534597, 0.06371896545890994, 0.6961296976385912, 0.04778922409418246, 0.015678406390499656, 0.003919601597624914, 0.9759807978086035, 0.9138290997211502, 0.18204268268784998, 0.036408536537569994, 0.06288747220125726, 0.6785227263819863, 0.043028270453491814, 0.9326393647933581, 0.04054953759971122, 0.04156593142198214, 0.914450491283607, 0.033038759471149336, 0.018354866372860743, 0.9067303988193207, 0.04038070602029364, 0.0036709732745721486, 0.029809733838855518, 0.924101749004521, 0.029809733838855518, 0.023984858687040807, 0.11992429343520404, 0.03597728803056121, 0.7675154779853058, 0.05396593204584182, 0.026699893513227418, 0.026699893513227418, 0.9077963794497322, 0.026699893513227418, 0.021261851606751418, 0.015946388705063565, 0.6777215199652015, 0.2445112934776413, 0.03720824031181498, 0.2421787858340873, 0.15445075627173935, 0.06548712065921748, 0.3904515118549571, 0.14703711997069588, 0.967431611199367, 0.9049757349153273, 0.06033171566102182, 0.03264900019696635, 0.016324500098483175, 0.9468210057120241, 0.016324500098483175, 0.016324500098483175, 0.9742597804349181, 0.028995558766620088, 0.00621333402141859, 0.020711113404728632, 0.9278578805318428, 0.016568890723782908, 0.8978652890583678, 0.04081205859356217, 0.04081205859356217, 0.02867036555814181, 0.9461220634186798, 0.02867036555814181, 0.014475841282537125, 0.8540746356696904, 0.014475841282537125, 0.10133088897775988, 0.014475841282537125, 0.04412843296919665, 0.022064216484598324, 0.022064216484598324, 0.9046328758685312, 0.04412843296919665, 0.38335080597332405, 0.19685581928359885, 0.04144333037549449, 0.17406198757707686, 0.20514448535869775, 0.17320732372541764, 0.02519379254187893, 0.6085875510897629, 0.15431197931900845, 0.03857799482975211, 0.13548605626372295, 0.05527291847574767, 0.32152661113331266, 0.35118525031542114, 0.1375082362079576, 0.8872837107448076, 0.028678199579042506, 0.9463805861084027, 0.028678199579042506, 0.01090863209215321, 0.1199949530136853, 0.01090863209215321, 0.8617819352801035, 0.9233053027509605, 0.04859501593426108, 0.15434938581452745, 0.016428276212932375, 0.1308531303006823, 0.6224597446493041, 0.07593302086791419, 0.9447475938872079, 0.01523786441753561, 0.01523786441753561, 0.01523786441753561, 0.01523786441753561, 0.09253419863742539, 0.009740441961834252, 0.014610662942751377, 0.8571588926414142, 0.02435110490458563, 0.04301484260009195, 0.04301484260009195, 0.9033116946019311, 0.960724153968525, 0.15433562435769932, 0.018373288614011826, 0.08084246990165203, 0.06981849673324493, 0.6798116787184375, 0.9351225482098303, 0.05494193748023796, 0.03139539284585026, 0.06540706842885471, 0.6906986426087057, 0.1569769642292513, 0.0718373546926784, 0.11493976750828544, 0.06944277620292245, 0.35439761648388013, 0.3903162938302193, 0.03311772400553855, 0.011039241335179518, 0.011039241335179518, 0.9328158928226692, 0.016558862002769275, 0.12289696899388654, 0.03880956915596417, 0.019404784577982084, 0.2069843688318089, 0.6080165834434387, 0.0554058769193178, 0.8864940307090848, 0.6639904628623414, 0.0632371869392706, 0.0632371869392706, 0.1535760254239429, 0.05420330309080338, 0.17582373035918156, 0.03066692971381074, 0.08177847923682864, 0.6112941322952941, 0.10017863706511508, 0.014484512403552093, 0.014484512403552093, 0.8980397690202298, 0.05793804961420837, 0.007242256201776046, 0.9134258600260701, 0.05708911625162938, 0.05708911625162938, 0.02449022873555437, 0.9306286919510661, 0.02449022873555437, 0.7267000193267557, 0.04910135265721322, 0.04910135265721322, 0.10802297584586909, 0.05892162318865586, 0.0070542881549327885, 0.9682010492645252, 0.0017635720387331971, 0.0035271440774663943, 0.019399292426065168, 0.8731674764026677, 0.019844715372787904, 0.09922357686393951, 0.019844715372787904, 0.9068265233229194, 0.039427240144474754, 0.039427240144474754, 0.19407414840859205, 0.04158731751612687, 0.02541447181541086, 0.6538450476146613, 0.08548504156092744, 0.07058549275899301, 0.023528497586331, 0.894082908280578, 0.023528497586331, 0.016632940154954805, 0.598785845578373, 0.11643058108468363, 0.05821529054234181, 0.20791175193693506, 0.9241110454376801, 0.08676785839104868, 0.06712230554779237, 0.6581260202490862, 0.1473416463244223, 0.0409282350901173, 0.03247840721321476, 0.03247840721321476, 0.9093954019700133, 0.01114998573626609, 0.04459994294506436, 0.01114998573626609, 0.01114998573626609, 0.9254488161100853, 0.1310993787264774, 0.20641178778211336, 0.11157393934168289, 0.21338515899096852, 0.3389058407503618, 0.01673645207527924, 0.9539777682909167, 0.01673645207527924, 0.01673645207527924, 0.7277404628778887, 0.048982531155242516, 0.04198502670449358, 0.1399500890149786, 0.04198502670449358, 0.3609902046116812, 0.07690660880857556, 0.04865520149113964, 0.28094455054561274, 0.23228934905447313, 0.04391491675157203, 0.9222132517830127, 0.016733100887977935, 0.9370536497267644, 0.016733100887977935, 0.016733100887977935, 0.00791308539079923, 0.00791308539079923, 0.9891356738499039, 0.9487638067730915, 0.01384907856185634, 0.9278882636443748, 0.01384907856185634, 0.04154723568556902, 0.15595774188614578, 0.05711128576112381, 0.384402884930641, 0.23723149470005275, 0.1647440935417033, 0.8769467684098717, 0.049960228396356075, 0.006909393288857755, 0.023917130615276845, 0.8907802424711998, 0.028169064946881615, 0.020893542996077867, 0.8566352628391926, 0.041787085992155734, 0.010446771498038934, 0.07312740048627253, 0.026601875896565187, 0.01995140692242389, 0.8379590907418034, 0.09975703461211945, 0.013300937948282594, 0.08890860153671032, 0.029636200512236772, 0.029636200512236772, 0.8298136143426296, 0.4399797339299666, 0.26259660009258873, 0.1026039695726009, 0.033041956303040965, 0.16347073118346583, 0.016067550542876192, 0.9319179314868192, 0.016067550542876192, 0.032135101085752384, 0.01981650295830695, 0.01981650295830695, 0.8388986252349943, 0.11229351676373939, 0.006605500986102317, 0.325778407854689, 0.1579955368565659, 0.10486429437382692, 0.2628598312303928, 0.14960639330665973, 0.9848664954458899, 0.6346129029109882, 0.04996951991425104, 0.04497256792282593, 0.20487503164842927, 0.06496037588852635, 0.9443021840712358, 0.07869184867260298, 0.038855588623641475, 0.9325341269673955, 0.946530082754796, 0.09865196612240863, 0.033389896226046, 0.21399888035784026, 0.5615573456198645, 0.09258107589949117, 0.07303507785060862, 0.013694077096989115, 0.018258769462652154, 0.3103990808650866, 0.588845315170532, 0.5970048743925406, 0.05427317039932186, 0.05427317039932186, 0.21390014216203324, 0.07981348588135569, 0.9647474953976539, 0.028374926335225117, 0.9022054991900416, 0.060147033279336105, 0.06817542356902608, 0.0852192794612826, 0.020452627070707823, 0.7397033457239329, 0.0886280506397339, 0.9330535974081916, 0.04056754771339963, 0.12859193258731538, 0.043909440395668665, 0.5959138339412176, 0.13172832118700598, 0.10350082378979042, 0.05626053963267201, 0.02045837804824437, 0.010229189024122185, 0.8643664725383245, 0.05114594512061092, 0.7589298488618217, 0.025059004443550716, 0.007159715555300205, 0.18257274666015522, 0.025059004443550716, 0.0737583387386087, 0.010536905534086956, 0.021073811068173912, 0.8218786316587826, 0.0737583387386087, 0.4385015303892748, 0.02615623163725499, 0.04154225024740498, 0.3877276689757798, 0.10770213027104995, 0.01627527809363232, 0.9439661294306747, 0.01627527809363232, 0.01627527809363232, 0.011682442515349376, 0.011682442515349376, 0.9229129587126006, 0.011682442515349376, 0.0467297700613975, 0.10379884336076708, 0.006487427710047943, 0.012974855420095886, 0.7720038974957052, 0.09731141565071914, 0.03734077052667708, 0.020537423789672396, 0.28192281747641196, 0.5451752496894854, 0.11575638863269895, 0.029734394910802407, 0.9217662422348746, 0.029734394910802407, 0.9489835858656265, 0.2521334030089588, 0.03518140507101751, 0.0566811526144171, 0.35376857321412053, 0.30099646560759424, 0.940387398127005, 0.01363977380028238, 0.01363977380028238, 0.01363977380028238, 0.9547841660197665, 0.01363977380028238, 0.021917527253536198, 0.1534226907747534, 0.010958763626768099, 0.7945103629406872, 0.02739690906692025, 0.029334481215221305, 0.9387033988870818, 0.029334481215221305, 0.029334481215221305, 0.026603346400420055, 0.026603346400420055, 0.9045137776142819, 0.026603346400420055, 0.05320669280084011, 0.07788341224337558, 0.04792825368823113, 0.6125829924527042, 0.20818835195825397, 0.053919285399260025, 0.9631578002769154, 0.009442723532126622, 0.009442723532126622, 0.009442723532126622, 0.2838486335046486, 0.08405226526108527, 0.03306974370927945, 0.47675547180877875, 0.12125572693402466, 0.9344341655363214, 0.1718259644185363, 0.023368331160920935, 0.6776816036667072, 0.03573980059905555, 0.09209871692833545, 0.8180329222977448, 0.02423801251252577, 0.006059503128131443, 0.12724956569076032, 0.02423801251252577, 0.03134472695867539, 0.015672363479337696, 0.09403418087602618, 0.12537890783470157, 0.720928720049534, 0.1490974976239911, 0.2175189520130829, 0.08884576913210429, 0.33597997752255526, 0.20832801037872728, 0.3184833846494064, 0.1426896884629957, 0.09702898815483708, 0.2716811668335438, 0.17008610864789087, 0.9304698056675518, 0.04771640029064368, 0.02385820014532184, 0.017795122505542667, 0.017795122505542667, 0.035590245011085334, 0.9253463702882188, 0.017795122505542667, 0.9417621712043992, 0.01698216866633347, 0.9510014453146743, 0.01698216866633347, 0.01698216866633347, 0.9526142960369097, 0.6510805935494187, 0.041404171290901036, 0.03415844131499335, 0.1604411637522415, 0.11386147104997783, 0.6163727364706234, 0.033138319165087284, 0.013255327666034912, 0.29493104056927677, 0.04307981491461346, 0.04453460468381565, 0.07648334282655296, 0.5712047122489398, 0.23332260279999067, 0.07357891208630411, 0.9600618071386453, 0.030001931473082666, 0.9116174650335146, 0.05697609156459466, 0.05697609156459466, 0.031030610156744066, 0.015515305078372033, 0.1904151077800204, 0.7320403032431896, 0.031030610156744066, 0.016959356073475637, 0.9327645840411599, 0.016959356073475637, 0.016959356073475637, 0.9628740242667899, 0.019257480485335796, 0.019257480485335796, 0.019257480485335796, 0.90022260990332, 0.03215080749654714, 0.03215080749654714, 0.03215080749654714, 0.13782974008461576, 0.023576139751315856, 0.014508393693117448, 0.7925210054865407, 0.03264388580951426, 0.01469682522971636, 0.8377190380938325, 0.04409047568914908, 0.05878730091886544, 0.02939365045943272, 0.9545914332142575, 0.007286957505452348, 0.02914783002180939, 0.35703831461672575, 0.07264415925102212, 0.05100547351667511, 0.3508558329783409, 0.16692700423639126, 0.029117288096020117, 0.007279322024005029, 0.8953566089526186, 0.058234576192040234, 0.007279322024005029, 0.16364438880549098, 0.11814684572952489, 0.23776135413891963, 0.2825250658749508, 0.19886829312236798, 0.1491342086200238, 0.10824257077259793, 0.1828096750826098, 0.18040428462099653, 0.3824570833965127, 0.9643807673272834, 0.9463246694254316, 0.9287331974252772, 0.04643665987126386, 0.5412268625229442, 0.08958237724517697, 0.052256386726353236, 0.1567691601790597, 0.16050175923094206, 0.00772958469561746, 0.02318875408685238, 0.04637750817370476, 0.01545916939123492, 0.9043614093872427, 0.01191041427763556, 0.02382082855527112, 0.9528331422108448, 0.016970567361522453, 0.9503517722452575, 0.016970567361522453, 0.016970567361522453, 0.18315022748845414, 0.08562867778680973, 0.08206081621235932, 0.2949432234879002, 0.3532182958705901, 0.43950145210993224, 0.2222014776466572, 0.07515638214519288, 0.21239847127989292, 0.05228270062274287, 0.7101297327009096, 0.04408787697477931, 0.028342206626643843, 0.12911449685471085, 0.08975032098437218, 0.9125327958719527, 0.8924411802677356, 0.01940089522321164, 0.01940089522321164, 0.01940089522321164, 0.01940089522321164, 0.9189128903553406, 0.03414582672490421, 0.018969903736057895, 0.022763884483269475, 0.8877914948475095, 0.03414582672490421, 0.05713678793671735, 0.04834651286953007, 0.687839024007405, 0.17360793257694887, 0.03516110026874914, 0.0307643245327234, 0.9229297359817019, 0.0307643245327234, 0.16256552458677512, 0.04138031534936094, 0.05615899940270413, 0.38720152219759163, 0.3546884172802366, 0.037445812205329616, 0.9361453051332403, 0.1668351095054039, 0.0303336562737098, 0.34378143776871106, 0.35557785965293154, 0.10448259383166708, 0.34387144353561194, 0.08819291140089812, 0.15777630938692783, 0.32526193012074356, 0.08495647428526884, 0.3957302310163424, 0.029478775673903612, 0.03305196060407375, 0.45200789366652205, 0.08932962325425337, 0.014904023953429657, 0.014904023953429657, 0.9240494851126387, 0.03726005988357414, 0.0074520119767148285, 0.9413027762333142, 0.1197341733267616, 0.17585956707368108, 0.0411586220810743, 0.4926562340007378, 0.17087064318506603, 0.1939139111810302, 0.1651859243393961, 0.040219181578287744, 0.43235620196659325, 0.1666223236814778, 0.126652924016853, 0.35462818724718836, 0.0506611696067412, 0.17098144742275154, 0.2944680483391832, 0.6127986288000077, 0.023831057786666967, 0.06127986288000077, 0.12255972576000154, 0.1804351518133356, 0.024865206932429978, 0.024865206932429978, 0.9200126564999092, 0.024865206932429978, 0.024865206932429978, 0.9330994982902747, 0.04665497491451374, 0.912244975006135, 0.03801020729192229, 0.9112682070474658, 0.05695426294046661, 0.04043760637745078, 0.04549230717463213, 0.7632598203743834, 0.0960393151464456, 0.055601708768994826, 0.9497299182684434, 0.8450965616157473, 0.01584556053029526, 0.010563707020196841, 0.09507336318177158, 0.036972974570688946, 0.027181537421548076, 0.020386153066161056, 0.8698091974895384, 0.06795384355387019, 0.006795384355387019, 0.8879968056238283, 0.06342834325884487, 0.02167413019449412, 0.014449420129662745, 0.8886393379742589, 0.07224710064831373, 0.0072247100648313725, 0.039638008727595896, 0.023782805236557538, 0.6024977326594576, 0.24575565411109457, 0.08720361920071097, 0.925243754134335, 0.02695962245982474, 0.011982054426588774, 0.7878200785482119, 0.16774876197224284, 0.005991027213294387, 0.15230962242014554, 0.30808082716802165, 0.11769379914283973, 0.30808082716802165, 0.11423221681510914, 0.05061031892230176, 0.9109857406014316, 0.965958924157952, 0.013416096168860445, 0.013416096168860445, 0.028908246837694298, 0.009636082279231432, 0.019272164558462864, 0.867247405130829, 0.08672474051308289, 0.04433138199705133, 0.07214715109324041, 0.047808353134074964, 0.702348169678774, 0.132994145991154, 0.016969088745109384, 0.9332998809810161, 0.016969088745109384, 0.03393817749021877, 0.08634754103178266, 0.03139910582973915, 0.04513621463025003, 0.4827612521322394, 0.3552023846989241, 0.8641149774864342, 0.036004790728601424, 0.018002395364300712, 0.07200958145720285, 0.965845149447645, 0.02840721027787191, 0.933172535540181, 0.676814674298631, 0.01269027514309933, 0.10575229285916107, 0.1649735768602913, 0.042300917143664435, 0.08322857719275392, 0.006935714766062827, 0.8530929162257277, 0.04161428859637696, 0.013871429532125654, 0.21821433612396726, 0.06297460706933283, 0.3456280760084314, 0.22553696485295943, 0.14938162607144068, 0.016971353903155705, 0.9334244646735639, 0.016971353903155705, 0.03394270780631141, 0.1825826227488945, 0.15535538953195407, 0.10570572895988628, 0.3251251966493472, 0.23063068136702464, 0.04213661636010169, 0.9270055599222372, 0.022568409986898165, 0.022568409986898165, 0.9027363994759267, 0.022568409986898165, 0.9469986090917253, 0.009728299102248955, 0.8852752183046548, 0.012971065469665272, 0.0356704300415795, 0.05512702824607741, 0.07713691587428427, 0.02571230529142809, 0.012856152645714046, 0.4028261162323734, 0.4799630321066577, 0.03181073424290163, 0.03181073424290163, 0.9225112930441474, 0.03181073424290163, 0.920118502707564, 0.024425140224003432, 0.12212570112001715, 0.85487990784012, 0.03349492752018451, 0.9043630430449816, 0.03349492752018451, 0.01465744303888791, 0.8501316962554988, 0.01465744303888791, 0.11725954431110328, 0.08199426760861371, 0.0948561135080041, 0.3231538782221835, 0.37620899255716883, 0.12379526678163247, 0.056231005774088696, 0.018743668591362898, 0.018743668591362898, 0.8809524237940562, 0.018743668591362898, 0.028944656102925556, 0.028944656102925556, 0.9262289952936178, 0.028944656102925556, 0.3616216414396746, 0.031659482227208866, 0.2567935780651386, 0.2729750912034898, 0.07738984544428834, 0.9459036834361878, 0.2602467743847409, 0.5712734071860166, 0.019042446906200553, 0.031737411510334254, 0.12060216373927017, 0.04507098401805531, 0.022535492009027654, 0.9014196803611062, 0.04507098401805531, 0.004161233562919293, 0.9529224859085181, 0.002774155708612862, 0.004161233562919293, 0.03745110206627364, 0.025933889088697454, 0.025933889088697454, 0.9336200071931083, 0.025933889088697454, 0.9664837490059518, 0.027613821400170054, 0.35695926549485923, 0.0504966765821996, 0.03134276477515837, 0.45272882453006535, 0.10621714729359226, 0.22275220831758005, 0.08058921357831149, 0.16570591106551688, 0.3431832802941579, 0.1874378338282076, 0.01673200222639233, 0.9369921246779704, 0.01673200222639233, 0.01673200222639233, 0.9713835070625105, 0.9606775963625015, 0.011344688862306976, 0.011344688862306976, 0.022689377724613952, 0.011344688862306976, 0.9302644867091721, 0.013116323586822696, 0.8886309230072377, 0.019674485380234044, 0.03279080896705674, 0.04590713255387944, 0.8992843105317901, 0.07494035921098251, 0.014988071842196502, 0.09303720527251892, 0.02189110712294563, 0.7552431957416242, 0.10398275883399175, 0.027363883903682037, 0.5916964499567688, 0.04671287762816596, 0.009342575525633192, 0.24602115550834072, 0.10588252262384285, 0.028837619265267726, 0.014418809632633863, 0.014418809632633863, 0.9372226261212011, 0.014418809632633863, 0.5803413837212381, 0.11812258252733164, 0.015407293373130215, 0.16948022710443236, 0.11812258252733164, 0.1465760762618537, 0.07459675309755055, 0.24342098379200705, 0.3703663355545054, 0.16489808579458543, 0.0247028852752559, 0.01852716395644192, 0.8028437714458166, 0.14821731165153537, 0.01235144263762795, 0.01499225208124378, 0.01499225208124378, 0.9220235029964925, 0.04497675624373134, 0.02339351238415858, 0.02339351238415858, 0.8421664458297089, 0.04678702476831716, 0.06433215905643609, 0.10234097035417057, 0.012792621294271321, 0.8123314521862289, 0.06396310647135661, 0.012792621294271321, 0.01419756001685886, 0.01419756001685886, 0.9015450610705376, 0.0709878000842943, 0.00709878000842943, 0.03574399953376547, 0.8935999883441367, 0.03574399953376547, 0.07148799906753094, 0.01453495446168229, 0.9447720400093489, 0.01453495446168229, 0.02906990892336458, 0.20500773615717677, 0.31391809599067694, 0.04164219640692653, 0.35235704652014754, 0.08969088456876483, 0.9296684166252434, 0.018228792482847908, 0.036457584965695816, 0.05560066280793236, 0.8896106049269178, 0.013690151406844554, 0.9309302956654296, 0.013690151406844554, 0.027380302813689108, 0.07259599387765875, 0.012625390239592825, 0.0063126951197964125, 0.8395884509329229, 0.06943964631776053, 0.04495302868654993, 0.022476514343274964, 0.9215370880742735, 0.022476514343274964, 0.8936401392012393, 0.04964667440006885, 0.04964667440006885, 0.1732909332906814, 0.03999021537477263, 0.04798825844972716, 0.31192367992322656, 0.4265622973309081, 0.33190560037563555, 0.08672910160569372, 0.08172549958998061, 0.33190560037563555, 0.1667867338571033, 0.8965601994455615, 0.010311375703346476, 0.9383351890045294, 0.005155687851673238, 0.010311375703346476, 0.030934127110039428, 0.014548446506649434, 0.014548446506649434, 0.8947294601589402, 0.07274223253324717, 0.030909696498397237, 0.8963811984535199, 0.030909696498397237, 0.061819392996794474, 0.22933215493119705, 0.02998958949100269, 0.06086122573174075, 0.5124691615962519, 0.16758888244972092, 0.05738550394286941, 0.012752334209526536, 0.7906447209906452, 0.08926633946668576, 0.05100933683810614, 0.9060884472137027, 0.03020294824045676, 0.01510147412022838, 0.01510147412022838, 0.01510147412022838, 0.16363821790876176, 0.07761126906529843, 0.2066516923304934, 0.33195181347205954, 0.21880767423228714, 0.0656823262220516, 0.7443996971832514, 0.010947054370341932, 0.0656823262220516, 0.12041759807376126], \"Term\": [\"aaaaaaaaaaaaaaaa\", \"aaaaaaaaaaaaaaaa\", \"aaaaaaaaaaaaaaaa\", \"aaaaaaaaaaaaaaaaaaaaaaaaaaaaaaaaaaaaaaaaaaaaaaaaaaaaaaaaaaaaaaaaaaaaaaaaaaaa\", \"aaaaaaaaaaaaaaaaaaaaaaaaaaaaaaaaaaaaaaaaaaaaaaaaaaaaaaaaaaaaaaaaaaaaaaaaaaaa\", \"aaaaaaaaaaaaaaaaaaaaaaaaaaaaaaaaaaaaaaaaaaaaaaaaaaaaaaaaaaaaaaaaaaaaaaaaaaaa\", \"aaaaaaaaaaaaaaaaaaaaaaaaaaaaaaaaaaaaaaaaaaaaaaaaaaaaaaaaaaaaaaaaaaaaaaaaaaaa\", \"aaaaaaaaaaaaaaaaaaaaaaaaaaaaaaaaaaaaaaaaaaaaaaaaaaaaaaaaaaaaaaaaaaaaaaaaaaaa\", \"accounting\", \"accounting\", \"accounting\", \"accounting\", \"accounting\", \"adeepa\", \"adeepa\", \"afford\", \"afford\", \"afford\", \"afford\", \"afford\", \"aggressively\", \"aggressively\", \"aggressively\", \"aggressively\", \"aggressively\", \"akamai\", \"akllp\", \"alert\", \"alert\", \"alert\", \"alert\", \"alert\", \"alias\", \"align\", \"align\", \"align\", \"align\", \"also\", \"also\", \"also\", \"also\", \"also\", \"alt\", \"alt\", \"alt\", \"alt\", \"amanda\", \"amanda\", \"amanda\", \"amanda\", \"american\", \"american\", \"american\", \"american\", \"american\", \"ancillary\", \"ancillary\", \"ancillary\", \"andersen\", \"andersen\", \"andersen\", \"andersen\", \"andersen\", \"arbetter\", \"arbetter\", \"arbetter\", \"arbetter\", \"astronomical\", \"astronomical\", \"astronomical\", \"astronomical\", \"atext\", \"atext\", \"attempting\", \"attempting\", \"attempting\", \"attempting\", \"auditor\", \"auditor\", \"auditor\", \"auditor\", \"auditor\", \"aw\", \"aw\", \"aw\", \"aw\", \"aw\", \"b\", \"b\", \"b\", \"b\", \"b\", \"bakernet\", \"bakernet\", \"bakernet\", \"bakernet\", \"bakernet\", \"bankrupt\", \"bankrupt\", \"bankrupt\", \"bankrupt\", \"bankrupt\", \"bankruptcy\", \"bankruptcy\", \"bankruptcy\", \"bankruptcy\", \"bankruptcy\", \"benefit\", \"benefit\", \"benefit\", \"benefit\", \"benefit\", \"bergstrom\", \"bgcolor\", \"bgcolor\", \"bgcolor\", \"bill\", \"bill\", \"bill\", \"bill\", \"bill\", \"blu\", \"blu\", \"blu\", \"bme\", \"border\", \"border\", \"border\", \"border\", \"border\", \"borland\", \"br\", \"br\", \"br\", \"br\", \"br\", \"brant\", \"business\", \"business\", \"business\", \"business\", \"business\", \"businessweek\", \"businessweek\", \"businessweek\", \"businessweek\", \"businessweek\", \"c\", \"c\", \"c\", \"c\", \"c\", \"california\", \"california\", \"california\", \"california\", \"california\", \"campuscounselor\", \"campuscounselor\", \"capacity\", \"capacity\", \"capacity\", \"capacity\", \"capacity\", \"cellpadding\", \"cellpadding\", \"cellpadding\", \"cellpadding\", \"cellspacing\", \"cellspacing\", \"cellspacing\", \"chewco\", \"chewco\", \"chewco\", \"chief\", \"chief\", \"chief\", \"chief\", \"chief\", \"ciso\", \"ciso\", \"clickz\", \"clickz\", \"cn\", \"cn\", \"cn\", \"cn\", \"cn\", \"color\", \"color\", \"color\", \"color\", \"color\", \"columbiahouse\", \"columbiahouse\", \"columbiahouse\", \"columbiahouse\", \"committee\", \"committee\", \"committee\", \"committee\", \"committee\", \"communication\", \"communication\", \"communication\", \"communication\", \"communication\", \"company\", \"company\", \"company\", \"company\", \"company\", \"comtex\", \"comtex\", \"comtex\", \"comtex\", \"comtex\", \"consumer\", \"consumer\", \"consumer\", \"consumer\", \"consumer\", \"copyright\", \"copyright\", \"copyright\", \"copyright\", \"copyright\", \"corp\", \"corp\", \"corp\", \"corp\", \"corp\", \"could\", \"could\", \"could\", \"could\", \"could\", \"crabon\", \"crenshaw\", \"customer\", \"customer\", \"customer\", \"customer\", \"customer\", \"database\", \"database\", \"database\", \"database\", \"database\", \"date\", \"date\", \"date\", \"date\", \"date\", \"day\", \"day\", \"day\", \"day\", \"day\", \"december\", \"december\", \"december\", \"december\", \"december\", \"declared\", \"declared\", \"declared\", \"declared\", \"declared\", \"destruction\", \"destruction\", \"detected\", \"detected\", \"detected\", \"devastated\", \"devastated\", \"devastated\", \"devastated\", \"development\", \"development\", \"development\", \"development\", \"development\", \"div\", \"div\", \"div\", \"doctrans\", \"document\", \"document\", \"document\", \"document\", \"document\", \"dole\", \"dole\", \"domestication\", \"domestication\", \"donate\", \"donate\", \"donate\", \"donate\", \"donate\", \"dorgan\", \"dorgan\", \"dorgan\", \"dow\", \"dow\", \"dow\", \"dow\", \"dow\", \"duncan\", \"duncan\", \"duncan\", \"duncan\", \"dynegy\", \"dynegy\", \"dynegy\", \"dynegy\", \"dynegy\", \"e\", \"e\", \"e\", \"e\", \"e\", \"ebiz\", \"ebner\", \"ebner\", \"edgar\", \"edgar\", \"edgar\", \"edgar\", \"edgar\", \"edmunds\", \"ee\", \"ee\", \"ee\", \"ee\", \"ee\", \"eeoc\", \"eeoc\", \"eeoc\", \"eezc\", \"eezc\", \"eezc\", \"eg\", \"eg\", \"eg\", \"eg\", \"eg\", \"elkins\", \"elkins\", \"elkins\", \"elkins\", \"elkins\", \"email\", \"email\", \"email\", \"email\", \"email\", \"employee\", \"employee\", \"employee\", \"employee\", \"employee\", \"energy\", \"energy\", \"energy\", \"energy\", \"energy\", \"energycentral\", \"enews\", \"enews\", \"enews\", \"engine\", \"engine\", \"engine\", \"engine\", \"engy\", \"engy\", \"enron\", \"enron\", \"enron\", \"enron\", \"enron\", \"enronoptions\", \"enronoptions\", \"enronoptions\", \"enronoptions\", \"enronoptions\", \"enronxgate\", \"enronxgate\", \"enronxgate\", \"enronxgate\", \"enronxgate\", \"entex\", \"entex\", \"entex\", \"epl\", \"error\", \"error\", \"error\", \"error\", \"error\", \"espinoza\", \"executive\", \"executive\", \"executive\", \"executive\", \"executive\", \"f\", \"f\", \"f\", \"f\", \"f\", \"fastow\", \"fastow\", \"fastow\", \"fastow\", \"fastow\", \"feb\", \"feb\", \"feb\", \"feb\", \"feb\", \"fid\", \"fid\", \"final\", \"final\", \"final\", \"final\", \"final\", \"financial\", \"financial\", \"financial\", \"financial\", \"financial\", \"financially\", \"financially\", \"financially\", \"financially\", \"financially\", \"findlaw\", \"findlaw\", \"findlaw\", \"flo\", \"flo\", \"flo\", \"follows\", \"follows\", \"follows\", \"follows\", \"follows\", \"font\", \"font\", \"font\", \"font\", \"font\", \"fool\", \"fool\", \"fool\", \"fool\", \"forrester\", \"forrester\", \"forrester\", \"forwarded\", \"forwarded\", \"forwarded\", \"forwarded\", \"forwarded\", \"fossum\", \"fossum\", \"fossum\", \"fossum\", \"france\", \"france\", \"france\", \"france\", \"france\", \"ftd\", \"fund\", \"fund\", \"fund\", \"fund\", \"fund\", \"fv\", \"fv\", \"fv\", \"fx\", \"fx\", \"fx\", \"fx\", \"fx\", \"gas\", \"gas\", \"gas\", \"gas\", \"gas\", \"gc\", \"gc\", \"gc\", \"gc\", \"ge\", \"ge\", \"ge\", \"ge\", \"ge\", \"get\", \"get\", \"get\", \"get\", \"get\", \"gibner\", \"gibner\", \"gjm\", \"gjm\", \"gjm\", \"gjm\", \"gt\", \"gt\", \"gt\", \"guidroz\", \"height\", \"height\", \"height\", \"height\", \"help\", \"help\", \"help\", \"help\", \"help\", \"hesco\", \"hou\", \"hou\", \"hou\", \"hou\", \"hou\", \"href\", \"href\", \"href\", \"href\", \"href\", \"hurt\", \"hurt\", \"hurt\", \"hurt\", \"hurt\", \"ig\", \"ig\", \"ig\", \"ig\", \"image\", \"image\", \"image\", \"image\", \"image\", \"img\", \"img\", \"img\", \"img\", \"indeed\", \"indeed\", \"indeed\", \"indeed\", \"indeed\", \"information\", \"information\", \"information\", \"information\", \"information\", \"initialize\", \"intended\", \"intended\", \"intended\", \"intended\", \"intended\", \"interchg\", \"interchg\", \"iris\", \"iris\", \"ismail\", \"j\", \"j\", \"j\", \"j\", \"j\", \"jan\", \"jan\", \"jan\", \"jan\", \"jan\", \"january\", \"january\", \"january\", \"january\", \"january\", \"jmckay\", \"jmckay\", \"jolivet\", \"jolivet\", \"jones\", \"jones\", \"jones\", \"jones\", \"jones\", \"joskow\", \"joskow\", \"june\", \"june\", \"june\", \"june\", \"june\", \"kaminski\", \"kaminski\", \"kaminski\", \"kaminski\", \"kaminski\", \"kay\", \"kay\", \"kay\", \"kay\", \"kay\", \"kean\", \"kean\", \"kean\", \"kean\", \"kean\", \"know\", \"know\", \"know\", \"know\", \"know\", \"kv\", \"kv\", \"kv\", \"kv\", \"labour\", \"labour\", \"labour\", \"labour\", \"labour\", \"lawyer\", \"lawyer\", \"lawyer\", \"lawyer\", \"lawyer\", \"lay\", \"lay\", \"lay\", \"lay\", \"lay\", \"lerach\", \"lerach\", \"lerach\", \"lesli\", \"like\", \"like\", \"like\", \"like\", \"like\", \"linklaters\", \"ljm\", \"ljm\", \"ljm\", \"ljm\", \"ljm\", \"lon\", \"lon\", \"lon\", \"lon\", \"lon\", \"lstncat\", \"lstncat\", \"lstncat\", \"lstncat\", \"maatman\", \"maatman\", \"maatman\", \"maatman\", \"maatman\", \"made\", \"made\", \"made\", \"made\", \"made\", \"maggi\", \"maggi\", \"maggi\", \"maggi\", \"mail\", \"mail\", \"mail\", \"mail\", \"mail\", \"mailman\", \"mailto\", \"mailto\", \"mailto\", \"mailto\", \"mailto\", \"mann\", \"mann\", \"mann\", \"mann\", \"mann\", \"mar\", \"mar\", \"mar\", \"mar\", \"mar\", \"market\", \"market\", \"market\", \"market\", \"market\", \"may\", \"may\", \"may\", \"may\", \"may\", \"mckay\", \"mckay\", \"mckay\", \"mcmahon\", \"mcmahon\", \"mcmahon\", \"mcmahon\", \"mcmahon\", \"melinda\", \"memid\", \"memid\", \"memid\", \"memid\", \"mergerqa\", \"message\", \"message\", \"message\", \"message\", \"message\", \"mike\", \"mike\", \"mike\", \"mike\", \"mike\", \"million\", \"million\", \"million\", \"million\", \"million\", \"mkt\", \"mkt\", \"mphlegal\", \"mphlegal\", \"mphlegal\", \"mr\", \"mr\", \"mr\", \"mr\", \"mr\", \"mtfdnj\", \"mtfdnj\", \"mtfdnj\", \"mtfdnj\", \"mule\", \"mule\", \"mule\", \"mule\", \"multexinvestor\", \"multexinvestor\", \"multexinvestor\", \"multexinvestor\", \"na\", \"na\", \"na\", \"na\", \"na\", \"nam\", \"nam\", \"nam\", \"nam\", \"nam\", \"nbsp\", \"nbsp\", \"nbsp\", \"need\", \"need\", \"need\", \"need\", \"need\", \"netted\", \"netted\", \"netted\", \"netted\", \"netted\", \"new\", \"new\", \"new\", \"new\", \"new\", \"news\", \"news\", \"news\", \"news\", \"news\", \"newtmv\", \"nicolay\", \"nobr\", \"nobr\", \"november\", \"november\", \"november\", \"november\", \"november\", \"nytimes\", \"nytimes\", \"nytimes\", \"nytimes\", \"nytimes\", \"occurred\", \"occurred\", \"occurred\", \"olc\", \"olc\", \"olc\", \"olc\", \"one\", \"one\", \"one\", \"one\", \"one\", \"option\", \"option\", \"option\", \"option\", \"option\", \"original\", \"original\", \"original\", \"original\", \"original\", \"ospraie\", \"otc\", \"otc\", \"otc\", \"otc\", \"otc\", \"parentname\", \"partnership\", \"partnership\", \"partnership\", \"partnership\", \"partnership\", \"pay\", \"pay\", \"pay\", \"pay\", \"pay\", \"pec\", \"pec\", \"pec\", \"people\", \"people\", \"people\", \"people\", \"people\", \"pitt\", \"pitt\", \"plan\", \"plan\", \"plan\", \"plan\", \"plan\", \"please\", \"please\", \"please\", \"please\", \"please\", \"pm\", \"pm\", \"pm\", \"pm\", \"pm\", \"pocketbook\", \"pocketbook\", \"pocketbook\", \"pocketbook\", \"pocketbook\", \"postmaster\", \"power\", \"power\", \"power\", \"power\", \"power\", \"price\", \"price\", \"price\", \"price\", \"price\", \"product\", \"product\", \"product\", \"product\", \"product\", \"program\", \"program\", \"program\", \"program\", \"program\", \"prospectus\", \"prospectus\", \"prospectus\", \"prospectus\", \"prospectus\", \"quotation\", \"quotation\", \"rabon\", \"rabon\", \"rdonoghue\", \"rdonoghue\", \"reach\", \"reach\", \"reach\", \"reach\", \"reach\", \"rebook\", \"recipient\", \"recipient\", \"recipient\", \"recipient\", \"recipient\", \"relief\", \"relief\", \"relief\", \"relief\", \"relief\", \"renee\", \"renee\", \"repair\", \"repair\", \"repair\", \"repair\", \"repair\", \"reported\", \"reported\", \"reported\", \"reported\", \"reported\", \"resumed\", \"retirement\", \"retirement\", \"retirement\", \"retirement\", \"retirement\", \"right\", \"right\", \"right\", \"right\", \"right\", \"rohauer\", \"rohauer\", \"rybarski\", \"rybarski\", \"rybarski\", \"sa\", \"sa\", \"sa\", \"sa\", \"sa\", \"said\", \"said\", \"said\", \"said\", \"said\", \"sans\", \"sans\", \"sans\", \"sans\", \"say\", \"say\", \"say\", \"say\", \"say\", \"sc\", \"sc\", \"sc\", \"sc\", \"scasey\", \"scasey\", \"scd\", \"schedule\", \"schedule\", \"schedule\", \"schedule\", \"schedule\", \"scientech\", \"scientech\", \"scientech\", \"scientech\", \"scientech\", \"see\", \"see\", \"see\", \"see\", \"see\", \"serif\", \"serif\", \"serif\", \"serif\", \"service\", \"service\", \"service\", \"service\", \"service\", \"shredded\", \"shredded\", \"shredding\", \"shredding\", \"shredding\", \"shredding\", \"simpletel\", \"size\", \"size\", \"size\", \"size\", \"size\", \"skilling\", \"skilling\", \"skilling\", \"skilling\", \"skilling\", \"smartportfolio\", \"smartportfolio\", \"smartportfolio\", \"smartportfolio\", \"soldano\", \"southwest\", \"southwest\", \"southwest\", \"spacer\", \"spacer\", \"spacer\", \"src\", \"src\", \"src\", \"src\", \"state\", \"state\", \"state\", \"state\", \"state\", \"steffes\", \"steffes\", \"steffes\", \"steffes\", \"steffes\", \"stinson\", \"stinson\", \"stinson\", \"stinson\", \"stock\", \"stock\", \"stock\", \"stock\", \"stock\", \"synchronizing\", \"table\", \"table\", \"table\", \"table\", \"table\", \"tanya\", \"tanya\", \"tanya\", \"tanya\", \"td\", \"td\", \"td\", \"td\", \"td\", \"testify\", \"testify\", \"testify\", \"testify\", \"tfsbrokers\", \"tfsbrokers\", \"thanks\", \"thanks\", \"thanks\", \"thanks\", \"thanks\", \"time\", \"time\", \"time\", \"time\", \"time\", \"tk\", \"tk\", \"tk\", \"tk\", \"tmv\", \"tmvcontroller\", \"todaysheadlines\", \"todaysheadlines\", \"todaysheadlines\", \"todaysheadlines\", \"todaysheadlines\", \"tr\", \"tr\", \"tr\", \"tr\", \"tr\", \"trans\", \"trans\", \"trans\", \"transition\", \"transition\", \"transition\", \"transition\", \"transition\", \"tuesday\", \"tuesday\", \"tuesday\", \"tuesday\", \"tuesday\", \"tyco\", \"tyco\", \"tyco\", \"tyco\", \"tyco\", \"type\", \"type\", \"type\", \"type\", \"type\", \"u\", \"u\", \"u\", \"u\", \"u\", \"unable\", \"unable\", \"unable\", \"unable\", \"unable\", \"underhanded\", \"underhanded\", \"underhanded\", \"underhanded\", \"union\", \"union\", \"union\", \"union\", \"union\", \"urge\", \"urge\", \"urge\", \"urge\", \"urge\", \"urging\", \"urging\", \"urging\", \"urging\", \"urging\", \"uscourts\", \"uscourts\", \"uscourts\", \"uscourts\", \"valign\", \"valign\", \"valign\", \"valign\", \"value\", \"value\", \"value\", \"value\", \"value\", \"variance\", \"variance\", \"variance\", \"vdw\", \"vdw\", \"verdana\", \"verdana\", \"verdana\", \"verdana\", \"vince\", \"vince\", \"vince\", \"vince\", \"vince\", \"vinson\", \"vinson\", \"vinson\", \"vinson\", \"walschlager\", \"walschlager\", \"walschlager\", \"way\", \"way\", \"way\", \"way\", \"way\", \"week\", \"week\", \"week\", \"week\", \"week\", \"whitedot\", \"width\", \"width\", \"width\", \"width\", \"width\", \"wiped\", \"wiped\", \"wiped\", \"wiped\", \"workplace\", \"workplace\", \"workplace\", \"workplace\", \"would\", \"would\", \"would\", \"would\", \"would\", \"writing\", \"writing\", \"writing\", \"writing\", \"writing\", \"xl\", \"xl\", \"xl\", \"xl\", \"xl\", \"year\", \"year\", \"year\", \"year\", \"year\", \"z\", \"z\", \"z\", \"z\", \"z\"]}, \"R\": 30, \"lambda.step\": 0.01, \"plot.opts\": {\"xlab\": \"PC1\", \"ylab\": \"PC2\"}, \"topic.order\": [1, 2, 3, 4, 5]};\n",
              "\n",
              "function LDAvis_load_lib(url, callback){\n",
              "  var s = document.createElement('script');\n",
              "  s.src = url;\n",
              "  s.async = true;\n",
              "  s.onreadystatechange = s.onload = callback;\n",
              "  s.onerror = function(){console.warn(\"failed to load library \" + url);};\n",
              "  document.getElementsByTagName(\"head\")[0].appendChild(s);\n",
              "}\n",
              "\n",
              "if(typeof(LDAvis) !== \"undefined\"){\n",
              "   // already loaded: just create the visualization\n",
              "   !function(LDAvis){\n",
              "       new LDAvis(\"#\" + \"ldavis_el641400749859763601940533525\", ldavis_el641400749859763601940533525_data);\n",
              "   }(LDAvis);\n",
              "}else if(typeof define === \"function\" && define.amd){\n",
              "   // require.js is available: use it to load d3/LDAvis\n",
              "   require.config({paths: {d3: \"https://cdnjs.cloudflare.com/ajax/libs/d3/3.5.5/d3.min\"}});\n",
              "   require([\"d3\"], function(d3){\n",
              "      window.d3 = d3;\n",
              "      LDAvis_load_lib(\"https://cdn.rawgit.com/bmabey/pyLDAvis/files/ldavis.v1.0.0.js\", function(){\n",
              "        new LDAvis(\"#\" + \"ldavis_el641400749859763601940533525\", ldavis_el641400749859763601940533525_data);\n",
              "      });\n",
              "    });\n",
              "}else{\n",
              "    // require.js not available: dynamically load d3 & LDAvis\n",
              "    LDAvis_load_lib(\"https://cdnjs.cloudflare.com/ajax/libs/d3/3.5.5/d3.min.js\", function(){\n",
              "         LDAvis_load_lib(\"https://cdn.rawgit.com/bmabey/pyLDAvis/files/ldavis.v1.0.0.js\", function(){\n",
              "                 new LDAvis(\"#\" + \"ldavis_el641400749859763601940533525\", ldavis_el641400749859763601940533525_data);\n",
              "            })\n",
              "         });\n",
              "}\n",
              "</script>"
            ],
            "text/plain": [
              "<IPython.core.display.HTML object>"
            ]
          },
          "metadata": {
            "tags": []
          },
          "execution_count": 26
        }
      ]
    },
    {
      "cell_type": "markdown",
      "metadata": {
        "id": "26cKUY1ULQzc"
      },
      "source": [
        "* Have a look at topic 1,4 and 5 from the LDA model on the Enron email data.\n",
        "* Topic 5 seems to discuss the employee share option program, and seems to point to major conversation(with \"Please\",\"Thanks\", \"mail\",\" contact\")\n",
        "* Topic 4 seems to be more related to general news around Enron.(\"stock\",\"million\",\"market\",\"fund\") and so on....."
      ]
    },
    {
      "cell_type": "markdown",
      "metadata": {
        "id": "SYdx3QUYMq2u"
      },
      "source": [
        "## Finding fraudsters based on topic\n",
        "\n",
        "* Now we are going to link the results from the topic model back to the original data. \n"
      ]
    },
    {
      "cell_type": "code",
      "metadata": {
        "id": "oogu9bwGn74L"
      },
      "source": [
        "def get_topic_details(ldamodel, corpus):\n",
        "    topic_details_df = pd.DataFrame()\n",
        "    for i, row in enumerate(ldamodel[corpus]):\n",
        "        row = sorted(row, key=lambda x: (x[1]), reverse=True)\n",
        "        for j, (topic_num, prop_topic) in enumerate(row):\n",
        "            if j == 0:  # => dominant topic\n",
        "                wp = ldamodel.show_topic(topic_num)\n",
        "                topic_details_df = topic_details_df.append(pd.Series([topic_num, prop_topic]), ignore_index=True)\n",
        "    topic_details_df.columns = ['Dominant_Topic', '% Score']\n",
        "    return topic_details_df"
      ],
      "execution_count": null,
      "outputs": []
    },
    {
      "cell_type": "code",
      "metadata": {
        "id": "KT0ywDS16nAJ"
      },
      "source": [
        "# Run get_topic_details function and check the results\n",
        "topic_details_df = get_topic_details(ldamodel, corpus)"
      ],
      "execution_count": null,
      "outputs": []
    },
    {
      "cell_type": "code",
      "metadata": {
        "colab": {
          "base_uri": "https://localhost:8080/",
          "height": 195
        },
        "id": "y__0oHEF6mzZ",
        "outputId": "90e51709-0330-44f4-b1d2-b056696c7310"
      },
      "source": [
        "topic_details_df.head()"
      ],
      "execution_count": null,
      "outputs": [
        {
          "output_type": "execute_result",
          "data": {
            "text/html": [
              "<div>\n",
              "<style scoped>\n",
              "    .dataframe tbody tr th:only-of-type {\n",
              "        vertical-align: middle;\n",
              "    }\n",
              "\n",
              "    .dataframe tbody tr th {\n",
              "        vertical-align: top;\n",
              "    }\n",
              "\n",
              "    .dataframe thead th {\n",
              "        text-align: right;\n",
              "    }\n",
              "</style>\n",
              "<table border=\"1\" class=\"dataframe\">\n",
              "  <thead>\n",
              "    <tr style=\"text-align: right;\">\n",
              "      <th></th>\n",
              "      <th>Dominant_Topic</th>\n",
              "      <th>% Score</th>\n",
              "    </tr>\n",
              "  </thead>\n",
              "  <tbody>\n",
              "    <tr>\n",
              "      <th>0</th>\n",
              "      <td>4.0</td>\n",
              "      <td>0.976538</td>\n",
              "    </tr>\n",
              "    <tr>\n",
              "      <th>1</th>\n",
              "      <td>3.0</td>\n",
              "      <td>0.998935</td>\n",
              "    </tr>\n",
              "    <tr>\n",
              "      <th>2</th>\n",
              "      <td>0.0</td>\n",
              "      <td>0.784948</td>\n",
              "    </tr>\n",
              "    <tr>\n",
              "      <th>3</th>\n",
              "      <td>2.0</td>\n",
              "      <td>0.993503</td>\n",
              "    </tr>\n",
              "    <tr>\n",
              "      <th>4</th>\n",
              "      <td>2.0</td>\n",
              "      <td>0.993400</td>\n",
              "    </tr>\n",
              "  </tbody>\n",
              "</table>\n",
              "</div>"
            ],
            "text/plain": [
              "   Dominant_Topic   % Score\n",
              "0             4.0  0.976538\n",
              "1             3.0  0.998935\n",
              "2             0.0  0.784948\n",
              "3             2.0  0.993503\n",
              "4             2.0  0.993400"
            ]
          },
          "metadata": {
            "tags": []
          },
          "execution_count": 30
        }
      ]
    },
    {
      "cell_type": "code",
      "metadata": {
        "colab": {
          "base_uri": "https://localhost:8080/",
          "height": 195
        },
        "id": "rZXpn2Zl6mv5",
        "outputId": "7139bf1d-d8a8-48ab-fbe1-7f15631c5c74"
      },
      "source": [
        "topic_details_df.tail()"
      ],
      "execution_count": null,
      "outputs": [
        {
          "output_type": "execute_result",
          "data": {
            "text/html": [
              "<div>\n",
              "<style scoped>\n",
              "    .dataframe tbody tr th:only-of-type {\n",
              "        vertical-align: middle;\n",
              "    }\n",
              "\n",
              "    .dataframe tbody tr th {\n",
              "        vertical-align: top;\n",
              "    }\n",
              "\n",
              "    .dataframe thead th {\n",
              "        text-align: right;\n",
              "    }\n",
              "</style>\n",
              "<table border=\"1\" class=\"dataframe\">\n",
              "  <thead>\n",
              "    <tr style=\"text-align: right;\">\n",
              "      <th></th>\n",
              "      <th>Dominant_Topic</th>\n",
              "      <th>% Score</th>\n",
              "    </tr>\n",
              "  </thead>\n",
              "  <tbody>\n",
              "    <tr>\n",
              "      <th>1676</th>\n",
              "      <td>4.0</td>\n",
              "      <td>0.730687</td>\n",
              "    </tr>\n",
              "    <tr>\n",
              "      <th>1677</th>\n",
              "      <td>0.0</td>\n",
              "      <td>0.533567</td>\n",
              "    </tr>\n",
              "    <tr>\n",
              "      <th>1678</th>\n",
              "      <td>3.0</td>\n",
              "      <td>0.844016</td>\n",
              "    </tr>\n",
              "    <tr>\n",
              "      <th>1679</th>\n",
              "      <td>4.0</td>\n",
              "      <td>0.992028</td>\n",
              "    </tr>\n",
              "    <tr>\n",
              "      <th>1680</th>\n",
              "      <td>0.0</td>\n",
              "      <td>0.790291</td>\n",
              "    </tr>\n",
              "  </tbody>\n",
              "</table>\n",
              "</div>"
            ],
            "text/plain": [
              "      Dominant_Topic   % Score\n",
              "1676             4.0  0.730687\n",
              "1677             0.0  0.533567\n",
              "1678             3.0  0.844016\n",
              "1679             4.0  0.992028\n",
              "1680             0.0  0.790291"
            ]
          },
          "metadata": {
            "tags": []
          },
          "execution_count": 31
        }
      ]
    },
    {
      "cell_type": "markdown",
      "metadata": {
        "id": "w9gIEvLC6x1c"
      },
      "source": [
        "* Concatenate column-wise the results from the previously defined function get_topic_details() to the original text data contained under contents and inspect the results."
      ]
    },
    {
      "cell_type": "code",
      "metadata": {
        "id": "37HNM-Fc6msq"
      },
      "source": [
        "# Add original text to topic details in a dataframe\n",
        "contents = pd.DataFrame({'Original text': text_clean})\n",
        "topic_details = pd.concat([get_topic_details(ldamodel, corpus), contents], axis=1)"
      ],
      "execution_count": null,
      "outputs": []
    },
    {
      "cell_type": "code",
      "metadata": {
        "colab": {
          "base_uri": "https://localhost:8080/",
          "height": 195
        },
        "id": "20QYQCeX623S",
        "outputId": "87103f99-9571-42e9-f7c5-8a23cae88165"
      },
      "source": [
        "topic_details.sort_values(by=['% Score'], ascending=False).head(10).head()"
      ],
      "execution_count": null,
      "outputs": [
        {
          "output_type": "execute_result",
          "data": {
            "text/html": [
              "<div>\n",
              "<style scoped>\n",
              "    .dataframe tbody tr th:only-of-type {\n",
              "        vertical-align: middle;\n",
              "    }\n",
              "\n",
              "    .dataframe tbody tr th {\n",
              "        vertical-align: top;\n",
              "    }\n",
              "\n",
              "    .dataframe thead th {\n",
              "        text-align: right;\n",
              "    }\n",
              "</style>\n",
              "<table border=\"1\" class=\"dataframe\">\n",
              "  <thead>\n",
              "    <tr style=\"text-align: right;\">\n",
              "      <th></th>\n",
              "      <th>Dominant_Topic</th>\n",
              "      <th>% Score</th>\n",
              "      <th>Original text</th>\n",
              "    </tr>\n",
              "  </thead>\n",
              "  <tbody>\n",
              "    <tr>\n",
              "      <th>442</th>\n",
              "      <td>2.0</td>\n",
              "      <td>0.999963</td>\n",
              "      <td>[pleased, send, web, based, e, mail, alert, pr...</td>\n",
              "    </tr>\n",
              "    <tr>\n",
              "      <th>154</th>\n",
              "      <td>3.0</td>\n",
              "      <td>0.999957</td>\n",
              "      <td>[joint, venture, enron, meeting, belies, offic...</td>\n",
              "    </tr>\n",
              "    <tr>\n",
              "      <th>135</th>\n",
              "      <td>3.0</td>\n",
              "      <td>0.999953</td>\n",
              "      <td>[lawyer, agree, order, safeguard, document, ho...</td>\n",
              "    </tr>\n",
              "    <tr>\n",
              "      <th>107</th>\n",
              "      <td>3.0</td>\n",
              "      <td>0.999907</td>\n",
              "      <td>[sample, article, original, message, schmidt, ...</td>\n",
              "    </tr>\n",
              "    <tr>\n",
              "      <th>849</th>\n",
              "      <td>4.0</td>\n",
              "      <td>0.999877</td>\n",
              "      <td>[original, message, received, thu, aug, cdt, e...</td>\n",
              "    </tr>\n",
              "  </tbody>\n",
              "</table>\n",
              "</div>"
            ],
            "text/plain": [
              "     Dominant_Topic  ...                                      Original text\n",
              "442             2.0  ...  [pleased, send, web, based, e, mail, alert, pr...\n",
              "154             3.0  ...  [joint, venture, enron, meeting, belies, offic...\n",
              "135             3.0  ...  [lawyer, agree, order, safeguard, document, ho...\n",
              "107             3.0  ...  [sample, article, original, message, schmidt, ...\n",
              "849             4.0  ...  [original, message, received, thu, aug, cdt, e...\n",
              "\n",
              "[5 rows x 3 columns]"
            ]
          },
          "metadata": {
            "tags": []
          },
          "execution_count": 33
        }
      ]
    },
    {
      "cell_type": "code",
      "metadata": {
        "colab": {
          "base_uri": "https://localhost:8080/",
          "height": 195
        },
        "id": "70OEDKXi6416",
        "outputId": "7e5c40e1-b7a6-4c92-c077-c85405847c24"
      },
      "source": [
        "topic_details.sort_values(by=['% Score'], ascending=False).head(10).tail()"
      ],
      "execution_count": null,
      "outputs": [
        {
          "output_type": "execute_result",
          "data": {
            "text/html": [
              "<div>\n",
              "<style scoped>\n",
              "    .dataframe tbody tr th:only-of-type {\n",
              "        vertical-align: middle;\n",
              "    }\n",
              "\n",
              "    .dataframe tbody tr th {\n",
              "        vertical-align: top;\n",
              "    }\n",
              "\n",
              "    .dataframe thead th {\n",
              "        text-align: right;\n",
              "    }\n",
              "</style>\n",
              "<table border=\"1\" class=\"dataframe\">\n",
              "  <thead>\n",
              "    <tr style=\"text-align: right;\">\n",
              "      <th></th>\n",
              "      <th>Dominant_Topic</th>\n",
              "      <th>% Score</th>\n",
              "      <th>Original text</th>\n",
              "    </tr>\n",
              "  </thead>\n",
              "  <tbody>\n",
              "    <tr>\n",
              "      <th>1042</th>\n",
              "      <td>1.0</td>\n",
              "      <td>0.999847</td>\n",
              "      <td>[forwarded, richard, shapiro, na, enron, pm, p...</td>\n",
              "    </tr>\n",
              "    <tr>\n",
              "      <th>1252</th>\n",
              "      <td>1.0</td>\n",
              "      <td>0.999802</td>\n",
              "      <td>[attention, reading, message, mail, reader, ca...</td>\n",
              "    </tr>\n",
              "    <tr>\n",
              "      <th>271</th>\n",
              "      <td>4.0</td>\n",
              "      <td>0.999792</td>\n",
              "      <td>[nancy, sheed, nancy, sheed, businessweek, pm,...</td>\n",
              "    </tr>\n",
              "    <tr>\n",
              "      <th>820</th>\n",
              "      <td>1.0</td>\n",
              "      <td>0.999639</td>\n",
              "      <td>[title, gas, index, intercontentalexchange, ti...</td>\n",
              "    </tr>\n",
              "    <tr>\n",
              "      <th>211</th>\n",
              "      <td>4.0</td>\n",
              "      <td>0.999623</td>\n",
              "      <td>[opinionjournal, best, web, today, january, ja...</td>\n",
              "    </tr>\n",
              "  </tbody>\n",
              "</table>\n",
              "</div>"
            ],
            "text/plain": [
              "      Dominant_Topic  ...                                      Original text\n",
              "1042             1.0  ...  [forwarded, richard, shapiro, na, enron, pm, p...\n",
              "1252             1.0  ...  [attention, reading, message, mail, reader, ca...\n",
              "271              4.0  ...  [nancy, sheed, nancy, sheed, businessweek, pm,...\n",
              "820              1.0  ...  [title, gas, index, intercontentalexchange, ti...\n",
              "211              4.0  ...  [opinionjournal, best, web, today, january, ja...\n",
              "\n",
              "[5 rows x 3 columns]"
            ]
          },
          "metadata": {
            "tags": []
          },
          "execution_count": 34
        }
      ]
    },
    {
      "cell_type": "markdown",
      "metadata": {
        "id": "uWJh2kfI6-lR"
      },
      "source": [
        "* Create a flag with the np.where() function to flag all content that has topic 3 as a dominant topic with a 1, and 0 otherwise"
      ]
    },
    {
      "cell_type": "code",
      "metadata": {
        "id": "ZZ8-rpYq67Zx"
      },
      "source": [
        "# Create flag for text highest associated with topic 2\n",
        "topic_details['flag'] = np.where((topic_details['Dominant_Topic'] == 2.0), 1, 0)"
      ],
      "execution_count": null,
      "outputs": []
    },
    {
      "cell_type": "code",
      "metadata": {
        "id": "Xj8U4dPf7B45"
      },
      "source": [
        "topic_details_1 = topic_details[topic_details.flag == 1]"
      ],
      "execution_count": null,
      "outputs": []
    },
    {
      "cell_type": "code",
      "metadata": {
        "colab": {
          "base_uri": "https://localhost:8080/",
          "height": 343
        },
        "id": "DH7fBRbF7GdJ",
        "outputId": "0ecd8f80-dea3-4dac-f058-18a1aeae7928"
      },
      "source": [
        "topic_details_1.sort_values(by=['% Score'], ascending=False).head(10)"
      ],
      "execution_count": null,
      "outputs": [
        {
          "output_type": "execute_result",
          "data": {
            "text/html": [
              "<div>\n",
              "<style scoped>\n",
              "    .dataframe tbody tr th:only-of-type {\n",
              "        vertical-align: middle;\n",
              "    }\n",
              "\n",
              "    .dataframe tbody tr th {\n",
              "        vertical-align: top;\n",
              "    }\n",
              "\n",
              "    .dataframe thead th {\n",
              "        text-align: right;\n",
              "    }\n",
              "</style>\n",
              "<table border=\"1\" class=\"dataframe\">\n",
              "  <thead>\n",
              "    <tr style=\"text-align: right;\">\n",
              "      <th></th>\n",
              "      <th>Dominant_Topic</th>\n",
              "      <th>% Score</th>\n",
              "      <th>Original text</th>\n",
              "      <th>flag</th>\n",
              "    </tr>\n",
              "  </thead>\n",
              "  <tbody>\n",
              "    <tr>\n",
              "      <th>442</th>\n",
              "      <td>2.0</td>\n",
              "      <td>0.999963</td>\n",
              "      <td>[pleased, send, web, based, e, mail, alert, pr...</td>\n",
              "      <td>1</td>\n",
              "    </tr>\n",
              "    <tr>\n",
              "      <th>109</th>\n",
              "      <td>2.0</td>\n",
              "      <td>0.998311</td>\n",
              "      <td>[original, message, ken, lay, office, chairman...</td>\n",
              "      <td>1</td>\n",
              "    </tr>\n",
              "    <tr>\n",
              "      <th>14</th>\n",
              "      <td>2.0</td>\n",
              "      <td>0.998249</td>\n",
              "      <td>[today, announced, plan, merge, dynegy, major,...</td>\n",
              "      <td>1</td>\n",
              "    </tr>\n",
              "    <tr>\n",
              "      <th>155</th>\n",
              "      <td>2.0</td>\n",
              "      <td>0.998249</td>\n",
              "      <td>[today, announced, plan, merge, dynegy, major,...</td>\n",
              "      <td>1</td>\n",
              "    </tr>\n",
              "    <tr>\n",
              "      <th>38</th>\n",
              "      <td>2.0</td>\n",
              "      <td>0.998249</td>\n",
              "      <td>[today, announced, plan, merge, dynegy, major,...</td>\n",
              "      <td>1</td>\n",
              "    </tr>\n",
              "    <tr>\n",
              "      <th>129</th>\n",
              "      <td>2.0</td>\n",
              "      <td>0.998249</td>\n",
              "      <td>[today, announced, plan, merge, dynegy, major,...</td>\n",
              "      <td>1</td>\n",
              "    </tr>\n",
              "    <tr>\n",
              "      <th>181</th>\n",
              "      <td>2.0</td>\n",
              "      <td>0.998249</td>\n",
              "      <td>[today, announced, plan, merge, dynegy, major,...</td>\n",
              "      <td>1</td>\n",
              "    </tr>\n",
              "    <tr>\n",
              "      <th>49</th>\n",
              "      <td>2.0</td>\n",
              "      <td>0.998248</td>\n",
              "      <td>[today, announced, plan, merge, dynegy, major,...</td>\n",
              "      <td>1</td>\n",
              "    </tr>\n",
              "    <tr>\n",
              "      <th>1473</th>\n",
              "      <td>2.0</td>\n",
              "      <td>0.998248</td>\n",
              "      <td>[today, announced, plan, merge, dynegy, major,...</td>\n",
              "      <td>1</td>\n",
              "    </tr>\n",
              "    <tr>\n",
              "      <th>13</th>\n",
              "      <td>2.0</td>\n",
              "      <td>0.998248</td>\n",
              "      <td>[today, announced, plan, merge, dynegy, major,...</td>\n",
              "      <td>1</td>\n",
              "    </tr>\n",
              "  </tbody>\n",
              "</table>\n",
              "</div>"
            ],
            "text/plain": [
              "      Dominant_Topic  ...  flag\n",
              "442              2.0  ...     1\n",
              "109              2.0  ...     1\n",
              "14               2.0  ...     1\n",
              "155              2.0  ...     1\n",
              "38               2.0  ...     1\n",
              "129              2.0  ...     1\n",
              "181              2.0  ...     1\n",
              "49               2.0  ...     1\n",
              "1473             2.0  ...     1\n",
              "13               2.0  ...     1\n",
              "\n",
              "[10 rows x 4 columns]"
            ]
          },
          "metadata": {
            "tags": []
          },
          "execution_count": 38
        }
      ]
    },
    {
      "cell_type": "markdown",
      "metadata": {
        "id": "5sRdlbaO7Ooi"
      },
      "source": [
        "* You have now flagged all data that is highest associated with topic 3, that seems to cover internal conversation about enron stock options. You are a true detective. With these exercises you have demonstrated that text mining and topic modeling can be a powerful tool for fraud detection."
      ]
    },
    {
      "cell_type": "code",
      "metadata": {
        "id": "oqw3yvNw7IcD"
      },
      "source": [
        ""
      ],
      "execution_count": null,
      "outputs": []
    }
  ]
}